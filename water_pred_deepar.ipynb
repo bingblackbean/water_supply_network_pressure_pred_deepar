{
  "nbformat": 4,
  "nbformat_minor": 0,
  "metadata": {
    "colab": {
      "name": "water_pred_prophet.ipynb",
      "provenance": [],
      "machine_shape": "hm",
      "mount_file_id": "https://github.com/bingblackbean/water_network_pressure_pred/blob/main/water_pred_deepar.ipynb",
      "authorship_tag": "ABX9TyPIV8S/VDvEyx7g+i9e2v0i",
      "include_colab_link": true
    },
    "kernelspec": {
      "name": "python3",
      "display_name": "Python 3"
    },
    "accelerator": "GPU"
  },
  "cells": [
    {
      "cell_type": "markdown",
      "metadata": {
        "id": "view-in-github",
        "colab_type": "text"
      },
      "source": [
        "<a href=\"https://colab.research.google.com/github/bingblackbean/water_supply_network_pressure_pred_deepar/blob/main/water_pred_deepar.ipynb\" target=\"_parent\"><img src=\"https://colab.research.google.com/assets/colab-badge.svg\" alt=\"Open In Colab\"/></a>"
      ]
    },
    {
      "cell_type": "code",
      "metadata": {
        "colab": {
          "base_uri": "https://localhost:8080/"
        },
        "id": "tsv-C_5HoL6C",
        "outputId": "b524d9c3-7d8c-429e-efff-43793b18aa1e"
      },
      "source": [
        "!pip install gluonts\r\n",
        "!pip install mxnet\r\n",
        "#!pip install -U mxnet-cu101==1.7.0 #### install GPU version if you have"
      ],
      "execution_count": 31,
      "outputs": [
        {
          "output_type": "stream",
          "text": [
            "Requirement already satisfied: gluonts in /usr/local/lib/python3.6/dist-packages (0.6.5)\n",
            "Requirement already satisfied: ujson~=1.35 in /usr/local/lib/python3.6/dist-packages (from gluonts) (1.35)\n",
            "Requirement already satisfied: pandas>=1.0 in /usr/local/lib/python3.6/dist-packages (from gluonts) (1.1.5)\n",
            "Requirement already satisfied: matplotlib~=3.0 in /usr/local/lib/python3.6/dist-packages (from gluonts) (3.2.2)\n",
            "Requirement already satisfied: toolz~=0.10 in /usr/local/lib/python3.6/dist-packages (from gluonts) (0.11.1)\n",
            "Requirement already satisfied: holidays>=0.9 in /usr/local/lib/python3.6/dist-packages (from gluonts) (0.10.4)\n",
            "Requirement already satisfied: pydantic<1.7,~=1.1 in /usr/local/lib/python3.6/dist-packages (from gluonts) (1.6.1)\n",
            "Requirement already satisfied: numpy~=1.16 in /usr/local/lib/python3.6/dist-packages (from gluonts) (1.19.5)\n",
            "Requirement already satisfied: tqdm~=4.23 in /usr/local/lib/python3.6/dist-packages (from gluonts) (4.41.1)\n",
            "Requirement already satisfied: python-dateutil>=2.7.3 in /usr/local/lib/python3.6/dist-packages (from pandas>=1.0->gluonts) (2.8.1)\n",
            "Requirement already satisfied: pytz>=2017.2 in /usr/local/lib/python3.6/dist-packages (from pandas>=1.0->gluonts) (2018.9)\n",
            "Requirement already satisfied: pyparsing!=2.0.4,!=2.1.2,!=2.1.6,>=2.0.1 in /usr/local/lib/python3.6/dist-packages (from matplotlib~=3.0->gluonts) (2.4.7)\n",
            "Requirement already satisfied: cycler>=0.10 in /usr/local/lib/python3.6/dist-packages (from matplotlib~=3.0->gluonts) (0.10.0)\n",
            "Requirement already satisfied: kiwisolver>=1.0.1 in /usr/local/lib/python3.6/dist-packages (from matplotlib~=3.0->gluonts) (1.3.1)\n",
            "Requirement already satisfied: six in /usr/local/lib/python3.6/dist-packages (from holidays>=0.9->gluonts) (1.15.0)\n",
            "Requirement already satisfied: korean-lunar-calendar in /usr/local/lib/python3.6/dist-packages (from holidays>=0.9->gluonts) (0.2.1)\n",
            "Requirement already satisfied: convertdate<=2.2.0 in /usr/local/lib/python3.6/dist-packages (from holidays>=0.9->gluonts) (2.2.0)\n",
            "Requirement already satisfied: dataclasses>=0.6; python_version < \"3.7\" in /usr/local/lib/python3.6/dist-packages (from pydantic<1.7,~=1.1->gluonts) (0.8)\n",
            "Requirement already satisfied: pymeeus<=1,>=0.3.6 in /usr/local/lib/python3.6/dist-packages (from convertdate<=2.2.0->holidays>=0.9->gluonts) (0.3.7)\n",
            "Requirement already satisfied: mxnet in /usr/local/lib/python3.6/dist-packages (1.7.0.post1)\n",
            "Requirement already satisfied: graphviz<0.9.0,>=0.8.1 in /usr/local/lib/python3.6/dist-packages (from mxnet) (0.8.4)\n",
            "Requirement already satisfied: requests<3,>=2.20.0 in /usr/local/lib/python3.6/dist-packages (from mxnet) (2.23.0)\n",
            "Requirement already satisfied: numpy<2.0.0,>1.16.0 in /usr/local/lib/python3.6/dist-packages (from mxnet) (1.19.5)\n",
            "Requirement already satisfied: urllib3!=1.25.0,!=1.25.1,<1.26,>=1.21.1 in /usr/local/lib/python3.6/dist-packages (from requests<3,>=2.20.0->mxnet) (1.24.3)\n",
            "Requirement already satisfied: chardet<4,>=3.0.2 in /usr/local/lib/python3.6/dist-packages (from requests<3,>=2.20.0->mxnet) (3.0.4)\n",
            "Requirement already satisfied: certifi>=2017.4.17 in /usr/local/lib/python3.6/dist-packages (from requests<3,>=2.20.0->mxnet) (2020.12.5)\n",
            "Requirement already satisfied: idna<3,>=2.5 in /usr/local/lib/python3.6/dist-packages (from requests<3,>=2.20.0->mxnet) (2.10)\n"
          ],
          "name": "stdout"
        }
      ]
    },
    {
      "cell_type": "code",
      "metadata": {
        "colab": {
          "base_uri": "https://localhost:8080/"
        },
        "id": "vDr4u2COjzVm",
        "outputId": "587b19ec-3737-41a3-896b-dc02665e7489"
      },
      "source": [
        "import pandas as pd\r\n",
        "import numpy as np\r\n",
        "from google.colab import drive\r\n",
        "from tqdm import tqdm,tqdm_notebook\r\n",
        "import matplotlib.pyplot as plt\r\n",
        "from sklearn.metrics import mean_squared_error\r\n",
        "from sklearn.model_selection import TimeSeriesSplit\r\n",
        "from gluonts.model.deepar import DeepAREstimator\r\n",
        "from gluonts.trainer import Trainer\r\n",
        "from gluonts.dataset.common import ListDataset\r\n",
        "from gluonts.model import deepar\r\n",
        "from gluonts.dataset.field_names import FieldName\r\n",
        "import mxnet as mx\r\n",
        "import random\r\n",
        "from gluonts.evaluation.backtest import make_evaluation_predictions\r\n",
        "from gluonts.evaluation import Evaluator\r\n",
        "import json\r\n",
        "\r\n",
        "r_seed = 20\r\n",
        "random.seed(r_seed)\r\n",
        "mx.random.seed(r_seed)\r\n",
        "np.random.seed(r_seed)\r\n",
        "\r\n",
        "import gc\r\n",
        "import warnings\r\n",
        "warnings.filterwarnings(\"ignore\")\r\n",
        "drive.mount(\"/content/gdrive\")"
      ],
      "execution_count": 32,
      "outputs": [
        {
          "output_type": "stream",
          "text": [
            "Drive already mounted at /content/gdrive; to attempt to forcibly remount, call drive.mount(\"/content/gdrive\", force_remount=True).\n"
          ],
          "name": "stdout"
        }
      ]
    },
    {
      "cell_type": "code",
      "metadata": {
        "id": "75vi8PpXqwER"
      },
      "source": [
        "G_THRESHOLD = 3.5  # used to remove outliers\r\n",
        "G_POST_LIST= [i+1 for i in range(30)] # measurement station lists"
      ],
      "execution_count": 33,
      "outputs": []
    },
    {
      "cell_type": "code",
      "metadata": {
        "id": "qL4qtdX2qxAA"
      },
      "source": [
        "folder = '/content/gdrive/MyDrive/water_pred/' \r\n",
        "pressure_2018_df  = pd.read_csv(folder+'train_水压数据_2018.csv',encoding='utf8')\r\n",
        "pressure_2019_df  = pd.read_csv(folder+'train_水压数据_2019.csv',encoding='utf8')\r\n",
        "pressure_2020_df  = pd.read_csv(folder+'test_水压数据_2020.csv',encoding='utf8')\r\n",
        "weather_2018_2019_df = pd.read_csv(folder+'2018-2019气象数据.csv',encoding='utf8')  # not used in this baseline\r\n",
        "weather_2020_df = pd.read_csv(folder+'2020气象数据.csv',encoding='utf8')  # not used in this baseline\r\n",
        "pressure_2018_2019_df = pd.concat([pressure_2018_df,pressure_2019_df],ignore_index=True)\r\n",
        "\r\n",
        "to_predict_df_1st = pd.read_csv(folder+'to_predict.csv',encoding='utf8')"
      ],
      "execution_count": 34,
      "outputs": []
    },
    {
      "cell_type": "code",
      "metadata": {
        "id": "RzlOe4iJCXUB",
        "outputId": "ce017230-f1c5-4431-9c0b-f657769d529f",
        "colab": {
          "base_uri": "https://localhost:8080/",
          "height": 309
        }
      },
      "source": [
        "pressure_2018_2019_df.head()"
      ],
      "execution_count": 35,
      "outputs": [
        {
          "output_type": "execute_result",
          "data": {
            "text/html": [
              "<div>\n",
              "<style scoped>\n",
              "    .dataframe tbody tr th:only-of-type {\n",
              "        vertical-align: middle;\n",
              "    }\n",
              "\n",
              "    .dataframe tbody tr th {\n",
              "        vertical-align: top;\n",
              "    }\n",
              "\n",
              "    .dataframe thead th {\n",
              "        text-align: right;\n",
              "    }\n",
              "</style>\n",
              "<table border=\"1\" class=\"dataframe\">\n",
              "  <thead>\n",
              "    <tr style=\"text-align: right;\">\n",
              "      <th></th>\n",
              "      <th>Time</th>\n",
              "      <th>MeasName</th>\n",
              "      <th>H0</th>\n",
              "      <th>H1</th>\n",
              "      <th>H2</th>\n",
              "      <th>H3</th>\n",
              "      <th>H4</th>\n",
              "      <th>H5</th>\n",
              "      <th>H6</th>\n",
              "      <th>H7</th>\n",
              "      <th>H8</th>\n",
              "      <th>H9</th>\n",
              "      <th>H10</th>\n",
              "      <th>H11</th>\n",
              "      <th>H12</th>\n",
              "      <th>H13</th>\n",
              "      <th>H14</th>\n",
              "      <th>H15</th>\n",
              "      <th>H16</th>\n",
              "      <th>H17</th>\n",
              "      <th>H18</th>\n",
              "      <th>H19</th>\n",
              "      <th>H20</th>\n",
              "      <th>H21</th>\n",
              "      <th>H22</th>\n",
              "      <th>H23</th>\n",
              "    </tr>\n",
              "  </thead>\n",
              "  <tbody>\n",
              "    <tr>\n",
              "      <th>0</th>\n",
              "      <td>2018-01-01</td>\n",
              "      <td>站点4</td>\n",
              "      <td>0.402750</td>\n",
              "      <td>0.407625</td>\n",
              "      <td>0.418125</td>\n",
              "      <td>0.425250</td>\n",
              "      <td>0.426000</td>\n",
              "      <td>0.425250</td>\n",
              "      <td>0.417375</td>\n",
              "      <td>0.426375</td>\n",
              "      <td>0.376500</td>\n",
              "      <td>0.334125</td>\n",
              "      <td>0.331500</td>\n",
              "      <td>0.340500</td>\n",
              "      <td>0.349500</td>\n",
              "      <td>0.358875</td>\n",
              "      <td>0.348750</td>\n",
              "      <td>0.359250</td>\n",
              "      <td>0.355500</td>\n",
              "      <td>0.344250</td>\n",
              "      <td>0.352125</td>\n",
              "      <td>0.356250</td>\n",
              "      <td>0.347250</td>\n",
              "      <td>0.343875</td>\n",
              "      <td>0.356625</td>\n",
              "      <td>0.418875</td>\n",
              "    </tr>\n",
              "    <tr>\n",
              "      <th>1</th>\n",
              "      <td>2018-01-01</td>\n",
              "      <td>站点7</td>\n",
              "      <td>0.214375</td>\n",
              "      <td>0.226750</td>\n",
              "      <td>0.232375</td>\n",
              "      <td>0.233125</td>\n",
              "      <td>0.235000</td>\n",
              "      <td>0.232750</td>\n",
              "      <td>0.230875</td>\n",
              "      <td>0.220000</td>\n",
              "      <td>0.193750</td>\n",
              "      <td>0.160375</td>\n",
              "      <td>0.144250</td>\n",
              "      <td>0.147625</td>\n",
              "      <td>0.161875</td>\n",
              "      <td>0.178750</td>\n",
              "      <td>0.187375</td>\n",
              "      <td>0.196750</td>\n",
              "      <td>0.199750</td>\n",
              "      <td>0.192250</td>\n",
              "      <td>0.186250</td>\n",
              "      <td>0.183250</td>\n",
              "      <td>0.177250</td>\n",
              "      <td>0.163375</td>\n",
              "      <td>0.165250</td>\n",
              "      <td>0.199375</td>\n",
              "    </tr>\n",
              "    <tr>\n",
              "      <th>2</th>\n",
              "      <td>2018-01-01</td>\n",
              "      <td>站点22</td>\n",
              "      <td>0.247000</td>\n",
              "      <td>0.248125</td>\n",
              "      <td>0.271375</td>\n",
              "      <td>0.251125</td>\n",
              "      <td>0.272125</td>\n",
              "      <td>0.256375</td>\n",
              "      <td>0.257125</td>\n",
              "      <td>0.242500</td>\n",
              "      <td>0.233500</td>\n",
              "      <td>0.231625</td>\n",
              "      <td>0.233125</td>\n",
              "      <td>0.233875</td>\n",
              "      <td>0.229000</td>\n",
              "      <td>0.239500</td>\n",
              "      <td>0.245500</td>\n",
              "      <td>0.242875</td>\n",
              "      <td>0.238375</td>\n",
              "      <td>0.230875</td>\n",
              "      <td>0.237250</td>\n",
              "      <td>0.236875</td>\n",
              "      <td>0.236500</td>\n",
              "      <td>0.236500</td>\n",
              "      <td>0.241000</td>\n",
              "      <td>0.254500</td>\n",
              "    </tr>\n",
              "    <tr>\n",
              "      <th>3</th>\n",
              "      <td>2018-01-01</td>\n",
              "      <td>站点21</td>\n",
              "      <td>0.284250</td>\n",
              "      <td>0.289875</td>\n",
              "      <td>0.283500</td>\n",
              "      <td>0.281250</td>\n",
              "      <td>0.288375</td>\n",
              "      <td>0.288750</td>\n",
              "      <td>0.285750</td>\n",
              "      <td>0.255750</td>\n",
              "      <td>0.198375</td>\n",
              "      <td>0.165375</td>\n",
              "      <td>0.159000</td>\n",
              "      <td>0.187500</td>\n",
              "      <td>0.223125</td>\n",
              "      <td>0.211500</td>\n",
              "      <td>0.227625</td>\n",
              "      <td>0.238125</td>\n",
              "      <td>0.238500</td>\n",
              "      <td>0.218625</td>\n",
              "      <td>0.207000</td>\n",
              "      <td>0.212625</td>\n",
              "      <td>0.209250</td>\n",
              "      <td>0.189000</td>\n",
              "      <td>0.217875</td>\n",
              "      <td>0.270000</td>\n",
              "    </tr>\n",
              "    <tr>\n",
              "      <th>4</th>\n",
              "      <td>2018-01-01</td>\n",
              "      <td>站点20</td>\n",
              "      <td>0.292875</td>\n",
              "      <td>0.295875</td>\n",
              "      <td>0.305250</td>\n",
              "      <td>0.298875</td>\n",
              "      <td>0.310125</td>\n",
              "      <td>0.300750</td>\n",
              "      <td>0.288375</td>\n",
              "      <td>0.262500</td>\n",
              "      <td>0.216375</td>\n",
              "      <td>0.190875</td>\n",
              "      <td>0.175500</td>\n",
              "      <td>0.206250</td>\n",
              "      <td>0.229875</td>\n",
              "      <td>0.233625</td>\n",
              "      <td>0.247500</td>\n",
              "      <td>0.241125</td>\n",
              "      <td>0.243375</td>\n",
              "      <td>0.232500</td>\n",
              "      <td>0.233625</td>\n",
              "      <td>0.224250</td>\n",
              "      <td>0.219375</td>\n",
              "      <td>0.202125</td>\n",
              "      <td>0.219375</td>\n",
              "      <td>0.286500</td>\n",
              "    </tr>\n",
              "  </tbody>\n",
              "</table>\n",
              "</div>"
            ],
            "text/plain": [
              "         Time MeasName        H0  ...       H21       H22       H23\n",
              "0  2018-01-01      站点4  0.402750  ...  0.343875  0.356625  0.418875\n",
              "1  2018-01-01      站点7  0.214375  ...  0.163375  0.165250  0.199375\n",
              "2  2018-01-01     站点22  0.247000  ...  0.236500  0.241000  0.254500\n",
              "3  2018-01-01     站点21  0.284250  ...  0.189000  0.217875  0.270000\n",
              "4  2018-01-01     站点20  0.292875  ...  0.202125  0.219375  0.286500\n",
              "\n",
              "[5 rows x 26 columns]"
            ]
          },
          "metadata": {
            "tags": []
          },
          "execution_count": 35
        }
      ]
    },
    {
      "cell_type": "code",
      "metadata": {
        "id": "QFHlRkiJDWq0",
        "outputId": "f02ebc06-a23e-42c0-e34f-a35deb2edf6c",
        "colab": {
          "base_uri": "https://localhost:8080/",
          "height": 204
        }
      },
      "source": [
        "to_predict_df_1st.head()"
      ],
      "execution_count": 36,
      "outputs": [
        {
          "output_type": "execute_result",
          "data": {
            "text/html": [
              "<div>\n",
              "<style scoped>\n",
              "    .dataframe tbody tr th:only-of-type {\n",
              "        vertical-align: middle;\n",
              "    }\n",
              "\n",
              "    .dataframe tbody tr th {\n",
              "        vertical-align: top;\n",
              "    }\n",
              "\n",
              "    .dataframe thead th {\n",
              "        text-align: right;\n",
              "    }\n",
              "</style>\n",
              "<table border=\"1\" class=\"dataframe\">\n",
              "  <thead>\n",
              "    <tr style=\"text-align: right;\">\n",
              "      <th></th>\n",
              "      <th>id</th>\n",
              "      <th>Time</th>\n",
              "      <th>MeasName</th>\n",
              "      <th>Hour</th>\n",
              "    </tr>\n",
              "  </thead>\n",
              "  <tbody>\n",
              "    <tr>\n",
              "      <th>0</th>\n",
              "      <td>0</td>\n",
              "      <td>2020-02-03</td>\n",
              "      <td>站点4</td>\n",
              "      <td>H0</td>\n",
              "    </tr>\n",
              "    <tr>\n",
              "      <th>1</th>\n",
              "      <td>1</td>\n",
              "      <td>2020-02-03</td>\n",
              "      <td>站点4</td>\n",
              "      <td>H1</td>\n",
              "    </tr>\n",
              "    <tr>\n",
              "      <th>2</th>\n",
              "      <td>2</td>\n",
              "      <td>2020-02-03</td>\n",
              "      <td>站点4</td>\n",
              "      <td>H2</td>\n",
              "    </tr>\n",
              "    <tr>\n",
              "      <th>3</th>\n",
              "      <td>3</td>\n",
              "      <td>2020-02-03</td>\n",
              "      <td>站点4</td>\n",
              "      <td>H3</td>\n",
              "    </tr>\n",
              "    <tr>\n",
              "      <th>4</th>\n",
              "      <td>4</td>\n",
              "      <td>2020-02-03</td>\n",
              "      <td>站点4</td>\n",
              "      <td>H4</td>\n",
              "    </tr>\n",
              "  </tbody>\n",
              "</table>\n",
              "</div>"
            ],
            "text/plain": [
              "   id        Time MeasName Hour\n",
              "0   0  2020-02-03      站点4   H0\n",
              "1   1  2020-02-03      站点4   H1\n",
              "2   2  2020-02-03      站点4   H2\n",
              "3   3  2020-02-03      站点4   H3\n",
              "4   4  2020-02-03      站点4   H4"
            ]
          },
          "metadata": {
            "tags": []
          },
          "execution_count": 36
        }
      ]
    },
    {
      "cell_type": "code",
      "metadata": {
        "colab": {
          "base_uri": "https://localhost:8080/"
        },
        "id": "kdI97_mAq0tU",
        "outputId": "f21b966e-c46e-4432-9a0f-1bedacb02a1c"
      },
      "source": [
        "def format_df(df):\r\n",
        "    df['MeasName'] = pd.to_numeric(df['MeasName'].str.lstrip('站点'))\r\n",
        "    df['Time'] =pd.to_datetime(df['Time'])\r\n",
        "    return df\r\n",
        "\r\n",
        "def reshape_pressure_df(df):\r\n",
        "    # reshape to column-wise\r\n",
        "    df_reshape = pd.DataFrame(None,columns=['DateTime','MeasName','Pressure'])\r\n",
        "    for i in [i for i in range(24)]:\r\n",
        "        per_hour_df = df[['Time','MeasName',f'H{i}']]\r\n",
        "        per_hour_df['Time'] = per_hour_df['Time']+ pd.Timedelta(i,unit='h')\r\n",
        "        per_hour_df.columns=['DateTime','MeasName','Pressure']   \r\n",
        "        df_reshape = pd.concat([df_reshape,per_hour_df])\r\n",
        "    df_reshape = pd.pivot_table(df_reshape, values='Pressure', index=['DateTime'],\r\n",
        "                    columns=['MeasName'])\r\n",
        "    return df_reshape\r\n",
        "\r\n",
        "def dt_features(df):\r\n",
        "    df['hour'] = df.index.hour\r\n",
        "    df['day'] = df.index.day\r\n",
        "    df['weekday'] = df.index.dayofweek\r\n",
        "    df['weeks'] = df.index.weekofyear\r\n",
        "    df['month'] = df.index.month   \r\n",
        "    df['quarter'] = df.index.quarter\r\n",
        "    return df\r\n",
        "\r\n",
        "def remove_abnormal(df):\r\n",
        "    df[df[G_POST_LIST]<=0.1] =None\r\n",
        "    df[df[G_POST_LIST]>=0.5] =None\r\n",
        "    return df\r\n",
        "\r\n",
        "def remove_abnormal_z_score(df,by_col='hour',th =3 ):\r\n",
        "    for pos in tqdm(G_POST_LIST):\r\n",
        "        df_zscore=df[[pos,by_col]].copy()\r\n",
        "        f_zscores_all = pd.Series()\r\n",
        "        for i in range(24):\r\n",
        "            f_zscores=(df_zscore[df_zscore[by_col]==i][pos]-df_zscore[df_zscore[by_col]==i][pos].mean())/df_zscore[df_zscore[by_col]==i][pos].std()\r\n",
        "            f_zscores_all= pd.concat([f_zscores_all,f_zscores])\r\n",
        "        f_zscores_all.sort_index(inplace=True)\r\n",
        "        df_zscore.loc[f_zscores_all.abs()> th,pos] = None # must use loc\r\n",
        "        df[pos] = df_zscore[pos]\r\n",
        "    return df\r\n",
        "\r\n",
        "def remove_abnormal_zero_var(df,window =3,th=1e-07):\r\n",
        "    for pos in tqdm(G_POST_LIST):\r\n",
        "        df_pos=df[[pos]].copy()\r\n",
        "        df_pos['var']=df_pos[pos].rolling(window=window,center=False).std()\r\n",
        "        df_pos.loc[df_pos['var'] <= th,pos] = None # must use loc\r\n",
        "        df[pos] = df_pos[pos]\r\n",
        "    return df\r\n",
        "def dt_features_for_submit(df): \r\n",
        "    df['hour'] = pd.to_numeric(df['Hour'].str.lstrip('H'))\r\n",
        "    df['DateTime'] = df['Time']+ pd.to_timedelta(df['hour'], unit='h')\r\n",
        "    df.drop('Hour',axis=1,inplace=True)\r\n",
        "    df['day'] = df['Time'].dt.day\r\n",
        "    df['weekday'] = df['Time'].dt.dayofweek\r\n",
        "    df['weeks'] = df['Time'].dt.weekofyear\r\n",
        "    df['month'] = df['Time'].dt.month   \r\n",
        "    df['quarter'] = df['Time'].dt.quarter\r\n",
        "    return df\r\n",
        "def preproc_df(df):\r\n",
        "    df = format_df(df)\r\n",
        "    df = reshape_pressure_df(df)\r\n",
        "    df = remove_abnormal(df)\r\n",
        "    df =dt_features(df)\r\n",
        "    df = remove_abnormal_z_score(df,th =G_THRESHOLD)\r\n",
        "    df = remove_abnormal_zero_var(df,window =3,th=1e-07)\r\n",
        "    return df\r\n",
        "\r\n",
        "def preproc_submit_df(df):\r\n",
        "    df = format_df(df)\r\n",
        "    df = dt_features_for_submit(df)\r\n",
        "    return df\r\n",
        "pressure_2018_2019_df = preproc_df(pressure_2018_2019_df)\r\n",
        "pressure_2020_df = preproc_df(pressure_2020_df)\r\n",
        "to_predict_df_1st = preproc_submit_df(to_predict_df_1st)\r\n",
        "print(pressure_2018_2019_df.shape)\r\n",
        "print(pressure_2020_df.shape)\r\n",
        "print(to_predict_df_1st.shape)"
      ],
      "execution_count": 37,
      "outputs": [
        {
          "output_type": "stream",
          "text": [
            "100%|██████████| 30/30 [00:02<00:00, 12.01it/s]\n",
            "100%|██████████| 30/30 [00:00<00:00, 271.01it/s]\n",
            "100%|██████████| 30/30 [00:02<00:00, 14.66it/s]\n",
            "100%|██████████| 30/30 [00:00<00:00, 364.11it/s]"
          ],
          "name": "stderr"
        },
        {
          "output_type": "stream",
          "text": [
            "(17520, 36)\n",
            "(2976, 36)\n",
            "(40320, 10)\n"
          ],
          "name": "stdout"
        },
        {
          "output_type": "stream",
          "text": [
            "\n"
          ],
          "name": "stderr"
        }
      ]
    },
    {
      "cell_type": "code",
      "metadata": {
        "colab": {
          "base_uri": "https://localhost:8080/"
        },
        "id": "RzVTsZWtrCH4",
        "outputId": "47857beb-a486-48bb-b5a8-36da1a97223e"
      },
      "source": [
        "print(pressure_2018_2019_df.head())\r\n",
        "print(pressure_2020_df.head())"
      ],
      "execution_count": 38,
      "outputs": [
        {
          "output_type": "stream",
          "text": [
            "MeasName                    1        2         3  ...  weeks  month  quarter\n",
            "DateTime                                          ...                       \n",
            "2018-01-01 00:00:00  0.288625  0.31775  0.301375  ...      1      1        1\n",
            "2018-01-01 01:00:00  0.292000  0.31925  0.303250  ...      1      1        1\n",
            "2018-01-01 02:00:00  0.290500  0.32000  0.302125  ...      1      1        1\n",
            "2018-01-01 03:00:00  0.299500  0.32150  0.303250  ...      1      1        1\n",
            "2018-01-01 04:00:00  0.300250  0.32675  0.307000  ...      1      1        1\n",
            "\n",
            "[5 rows x 36 columns]\n",
            "MeasName                    1         2         3  ...  weeks  month  quarter\n",
            "DateTime                                           ...                       \n",
            "2020-01-01 00:00:00  0.309625  0.343250  0.324125  ...      1      1        1\n",
            "2020-01-01 01:00:00  0.325750  0.359375  0.341000  ...      1      1        1\n",
            "2020-01-01 02:00:00  0.332875  0.362750  0.348125  ...      1      1        1\n",
            "2020-01-01 03:00:00  0.324250  0.355625  0.338750  ...      1      1        1\n",
            "2020-01-01 04:00:00  0.331750  0.361625  0.346250  ...      1      1        1\n",
            "\n",
            "[5 rows x 36 columns]\n"
          ],
          "name": "stdout"
        }
      ]
    },
    {
      "cell_type": "code",
      "metadata": {
        "colab": {
          "base_uri": "https://localhost:8080/"
        },
        "id": "FKAxKAjEWat_",
        "outputId": "8fb8549b-b12d-4c86-fc2e-fa14d8cc79d4"
      },
      "source": [
        "def fill_gap_by_previous_window(df,windows=7*24): # if happenly last previous period has smilar missing gap, it is hard to fill (so try run this funtion multiple times)\r\n",
        "    for pos in G_POST_LIST:\r\n",
        "        last_score = 0\r\n",
        "        while df.iloc[windows:,:][pos].isna().sum() !=0: # don;t need to check first window (we cannot fill this period)\r\n",
        "            if last_score == df.iloc[windows:,:][pos].isna().sum():\r\n",
        "                break\r\n",
        "            else:\r\n",
        "                pf_df = df[[pos]]\r\n",
        "                pf_df['yhat'] = pf_df[pos].shift(windows)\r\n",
        "                pf_df[pos].fillna(pf_df['yhat'],inplace=True)\r\n",
        "                df[pos] = pf_df[pos]\r\n",
        "            last_score = df.iloc[windows:,:][pos].isna().sum()\r\n",
        "    return df\r\n",
        "for i in tqdm(range(100)):\r\n",
        "    pressure_2018_2019_df = fill_gap_by_previous_window(pressure_2018_2019_df,windows=7*24)\r\n",
        "    pressure_2020_df = fill_gap_by_previous_window(pressure_2020_df,windows=7*24)"
      ],
      "execution_count": 39,
      "outputs": [
        {
          "output_type": "stream",
          "text": [
            "100%|██████████| 100/100 [00:04<00:00, 21.11it/s]\n"
          ],
          "name": "stderr"
        }
      ]
    },
    {
      "cell_type": "code",
      "metadata": {
        "id": "ULfS8QEOFuH7",
        "outputId": "66522fdb-3c89-479a-98ad-c5504410b6ce",
        "colab": {
          "base_uri": "https://localhost:8080/"
        }
      },
      "source": [
        "pressure_2018_2019_df.info()\r\n",
        "pressure_2020_df.info()"
      ],
      "execution_count": 40,
      "outputs": [
        {
          "output_type": "stream",
          "text": [
            "<class 'pandas.core.frame.DataFrame'>\n",
            "DatetimeIndex: 17520 entries, 2018-01-01 00:00:00 to 2019-12-31 23:00:00\n",
            "Data columns (total 36 columns):\n",
            " #   Column   Non-Null Count  Dtype  \n",
            "---  ------   --------------  -----  \n",
            " 0   1        17520 non-null  float64\n",
            " 1   2        17519 non-null  float64\n",
            " 2   3        17520 non-null  float64\n",
            " 3   4        17520 non-null  float64\n",
            " 4   5        17520 non-null  float64\n",
            " 5   6        17520 non-null  float64\n",
            " 6   7        17520 non-null  float64\n",
            " 7   8        17520 non-null  float64\n",
            " 8   9        17520 non-null  float64\n",
            " 9   10       17520 non-null  float64\n",
            " 10  11       17520 non-null  float64\n",
            " 11  12       17520 non-null  float64\n",
            " 12  13       17520 non-null  float64\n",
            " 13  14       17520 non-null  float64\n",
            " 14  15       17517 non-null  float64\n",
            " 15  16       17520 non-null  float64\n",
            " 16  17       14376 non-null  float64\n",
            " 17  18       17513 non-null  float64\n",
            " 18  19       17520 non-null  float64\n",
            " 19  20       17520 non-null  float64\n",
            " 20  21       17520 non-null  float64\n",
            " 21  22       17520 non-null  float64\n",
            " 22  23       17520 non-null  float64\n",
            " 23  24       17520 non-null  float64\n",
            " 24  25       17474 non-null  float64\n",
            " 25  26       17520 non-null  float64\n",
            " 26  27       17520 non-null  float64\n",
            " 27  28       17520 non-null  float64\n",
            " 28  29       17520 non-null  float64\n",
            " 29  30       17520 non-null  float64\n",
            " 30  hour     17520 non-null  int64  \n",
            " 31  day      17520 non-null  int64  \n",
            " 32  weekday  17520 non-null  int64  \n",
            " 33  weeks    17520 non-null  int64  \n",
            " 34  month    17520 non-null  int64  \n",
            " 35  quarter  17520 non-null  int64  \n",
            "dtypes: float64(30), int64(6)\n",
            "memory usage: 4.9 MB\n",
            "<class 'pandas.core.frame.DataFrame'>\n",
            "DatetimeIndex: 2976 entries, 2020-01-01 00:00:00 to 2020-08-31 23:00:00\n",
            "Data columns (total 36 columns):\n",
            " #   Column   Non-Null Count  Dtype  \n",
            "---  ------   --------------  -----  \n",
            " 0   1        2976 non-null   float64\n",
            " 1   2        2976 non-null   float64\n",
            " 2   3        2976 non-null   float64\n",
            " 3   4        2976 non-null   float64\n",
            " 4   5        2976 non-null   float64\n",
            " 5   6        2976 non-null   float64\n",
            " 6   7        2976 non-null   float64\n",
            " 7   8        2976 non-null   float64\n",
            " 8   9        2976 non-null   float64\n",
            " 9   10       2976 non-null   float64\n",
            " 10  11       2976 non-null   float64\n",
            " 11  12       2976 non-null   float64\n",
            " 12  13       2975 non-null   float64\n",
            " 13  14       2976 non-null   float64\n",
            " 14  15       2971 non-null   float64\n",
            " 15  16       2976 non-null   float64\n",
            " 16  17       2920 non-null   float64\n",
            " 17  18       2962 non-null   float64\n",
            " 18  19       2976 non-null   float64\n",
            " 19  20       2976 non-null   float64\n",
            " 20  21       2970 non-null   float64\n",
            " 21  22       2974 non-null   float64\n",
            " 22  23       2976 non-null   float64\n",
            " 23  24       2976 non-null   float64\n",
            " 24  25       2976 non-null   float64\n",
            " 25  26       2928 non-null   float64\n",
            " 26  27       2976 non-null   float64\n",
            " 27  28       2976 non-null   float64\n",
            " 28  29       2976 non-null   float64\n",
            " 29  30       2976 non-null   float64\n",
            " 30  hour     2976 non-null   int64  \n",
            " 31  day      2976 non-null   int64  \n",
            " 32  weekday  2976 non-null   int64  \n",
            " 33  weeks    2976 non-null   int64  \n",
            " 34  month    2976 non-null   int64  \n",
            " 35  quarter  2976 non-null   int64  \n",
            "dtypes: float64(30), int64(6)\n",
            "memory usage: 860.2 KB\n"
          ],
          "name": "stdout"
        }
      ]
    },
    {
      "cell_type": "code",
      "metadata": {
        "id": "xwgS_jLQOchZ"
      },
      "source": [
        "def diff_pos(df,pos_list,periods=1):\r\n",
        "    diff_df = df.copy()\r\n",
        "    for c in df.columns:\r\n",
        "        if c in pos_list:\r\n",
        "            diff_df[c] = df[c].diff(periods=periods)\r\n",
        "        else:\r\n",
        "            diff_df[c] = df[c]\r\n",
        "    return diff_df"
      ],
      "execution_count": 41,
      "outputs": []
    },
    {
      "cell_type": "code",
      "metadata": {
        "id": "ZMtIEV77Osu6"
      },
      "source": [
        "diff_periods = 21*24\r\n",
        "pressure_2020_df_diff = diff_pos(pressure_2020_df,G_POST_LIST,diff_periods)\r\n",
        "pressure_2018_2019_df_diff = diff_pos(pressure_2018_2019_df,G_POST_LIST,diff_periods)"
      ],
      "execution_count": 42,
      "outputs": []
    },
    {
      "cell_type": "code",
      "metadata": {
        "colab": {
          "base_uri": "https://localhost:8080/"
        },
        "id": "bO0Wre-QW7vg",
        "outputId": "6cbf17c9-8740-4568-d874-08ba7aa86aef"
      },
      "source": [
        "# final model\r\n",
        "freq = \"1H\"\r\n",
        "prediction_length = 21*24\r\n",
        "context_length = 28*24\r\n",
        "print(f'seed is {r_seed}')\r\n",
        "mx.random.seed(r_seed)\r\n",
        "np.random.seed(r_seed)\r\n",
        "\r\n",
        "use_diff_2018_2019_df = pressure_2018_2019_df_diff\r\n",
        "\r\n",
        "pos_group_dict = {1:6,2:0,3:6,4:0,5:6,6:4,7:6,8:0,9:4,10:4,11:5,12:6,13:6,14:2,15:1,16:3,17:7,18:6,19:6,20:6,21:6,22:5,23:4,24:4,25:6,26:5,27:5,28:6,29:6,30:5}\r\n",
        "meas_dict = {pos:pos for pos in G_POST_LIST}\r\n",
        "train_ds = ListDataset([{'target': use_diff_2018_2019_df.loc['2018-06':'2019-10',pos], 'start': pd.Timestamp(\"2018-06-01\", freq=freq),FieldName.FEAT_STATIC_CAT:[pos_group_dict[pos],meas_dict[pos]]} for pos in G_POST_LIST]\r\n",
        "                        ,\r\n",
        "                    freq=freq)\r\n",
        "validate_ds = ListDataset([{'target': use_diff_2018_2019_df.loc['2019-11':'2019-12',pos], 'start': pd.Timestamp(\"2019-11-01\", freq=freq),FieldName.FEAT_STATIC_CAT:[pos_group_dict[pos],meas_dict[pos]]} for pos in G_POST_LIST]\r\n",
        "                        ,\r\n",
        "                    freq=freq)\r\n",
        "trainer = Trainer(epochs=3,batch_size=128,num_batches_per_epoch=50,patience=5)\r\n",
        "estimator = deepar.DeepAREstimator(\r\n",
        "    freq=freq, prediction_length=prediction_length, trainer=trainer,context_length=context_length,use_feat_dynamic_real =False,num_layers=2,num_cells=40,use_feat_static_cat  =True,cardinality=[30,30],embedding_dimension =[11,50],lags_seq= [24,12,8])\r\n",
        "predictor = estimator.train(training_data=train_ds)#,validation_data=validate_ds)\r\n"
      ],
      "execution_count": 43,
      "outputs": [
        {
          "output_type": "stream",
          "text": [
            "\r  0%|          | 0/50 [00:00<?, ?it/s]"
          ],
          "name": "stderr"
        },
        {
          "output_type": "stream",
          "text": [
            "seed is 20\n",
            "learning rate from ``lr_scheduler`` has been overwritten by ``learning_rate`` in optimizer.\n"
          ],
          "name": "stdout"
        },
        {
          "output_type": "stream",
          "text": [
            "100%|██████████| 50/50 [03:21<00:00,  4.03s/it, epoch=1/3, avg_epoch_loss=-2.65]\n",
            "100%|██████████| 50/50 [02:41<00:00,  3.23s/it, epoch=2/3, avg_epoch_loss=-2.73]\n",
            "100%|██████████| 50/50 [02:36<00:00,  3.14s/it, epoch=3/3, avg_epoch_loss=-2.76]\n"
          ],
          "name": "stderr"
        }
      ]
    },
    {
      "cell_type": "code",
      "metadata": {
        "colab": {
          "base_uri": "https://localhost:8080/"
        },
        "id": "ZQkEUROECrnH",
        "outputId": "a46ebbc9-5615-4546-e739-b11fc45a8607"
      },
      "source": [
        "\r\n",
        "forecast_it, ts_it = make_evaluation_predictions(\r\n",
        "    dataset=validate_ds,  # test dataset\r\n",
        "    predictor=predictor,  # predictor\r\n",
        "    num_samples=prediction_length, \r\n",
        ")\r\n",
        "\r\n",
        "forecasts = list(forecast_it)\r\n",
        "tss = list(ts_it)\r\n",
        "\r\n",
        "evaluator = Evaluator(quantiles=[0.1, 0.5, 0.9])\r\n",
        "agg_metrics, item_metrics = evaluator(iter(tss), iter(forecasts), num_series=30)\r\n",
        "print(json.dumps(agg_metrics, indent=4))"
      ],
      "execution_count": 44,
      "outputs": [
        {
          "output_type": "stream",
          "text": [
            "Running evaluation: 100%|██████████| 30/30 [00:00<00:00, 332.39it/s]\n"
          ],
          "name": "stderr"
        },
        {
          "output_type": "stream",
          "text": [
            "{\n",
            "    \"MSE\": 0.0005933114690903238,\n",
            "    \"abs_error\": 237.4205093383789,\n",
            "    \"abs_target_sum\": 231.29268169403076,\n",
            "    \"abs_target_mean\": 0.015297135032673992,\n",
            "    \"seasonal_error\": 0.015220939501737935,\n",
            "    \"MASE\": 0.9690541368423291,\n",
            "    \"MAPE\": 1.555092823242546,\n",
            "    \"sMAPE\": 1.475908665372541,\n",
            "    \"OWA\": NaN,\n",
            "    \"MSIS\": 8.12769844485678,\n",
            "    \"QuantileLoss[0.1]\": 118.81208705175668,\n",
            "    \"Coverage[0.1]\": 0.06666666666666662,\n",
            "    \"QuantileLoss[0.5]\": 237.42051115154754,\n",
            "    \"Coverage[0.5]\": 0.3742724867724867,\n",
            "    \"QuantileLoss[0.9]\": 126.43710828056938,\n",
            "    \"Coverage[0.9]\": 0.8600529100529097,\n",
            "    \"RMSE\": 0.024357985735489782,\n",
            "    \"NRMSE\": 1.5923233784275435,\n",
            "    \"ND\": 1.0264938241861645,\n",
            "    \"wQuantileLoss[0.1]\": 0.5136871870806926,\n",
            "    \"wQuantileLoss[0.5]\": 1.0264938320254469,\n",
            "    \"wQuantileLoss[0.9]\": 0.5466541671553133,\n",
            "    \"mean_absolute_QuantileLoss\": 160.8899021612912,\n",
            "    \"mean_wQuantileLoss\": 0.6956117287538176,\n",
            "    \"MAE_Coverage\": 0.06633597883597898\n",
            "}\n"
          ],
          "name": "stdout"
        }
      ]
    },
    {
      "cell_type": "code",
      "metadata": {
        "colab": {
          "base_uri": "https://localhost:8080/"
        },
        "id": "yZ0N1TSH11Af",
        "outputId": "b65bd39a-1564-4c6c-ab42-994ab191413e"
      },
      "source": [
        "print('validating...')\r\n",
        "all_df = pd.DataFrame()\r\n",
        "\r\n",
        "valid_start_date = pd.Timestamp('2019-10-10')\r\n",
        "valid_end_date = valid_start_date + pd.Timedelta(int(context_length/24-1),unit='D')\r\n",
        "pred_start_date = valid_end_date + pd.Timedelta(1,unit='D')\r\n",
        "pred_end_date  = pred_start_date + pd.Timedelta(int(prediction_length/24-1),unit='D')\r\n",
        "for pos in G_POST_LIST:\r\n",
        "    out = pd.DataFrame()\r\n",
        "    mx.random.seed(r_seed)\r\n",
        "    np.random.seed(r_seed)\r\n",
        "    validate_ds_pred = ListDataset([{'target': use_diff_2018_2019_df.loc[valid_start_date.strftime('%Y-%m-%d'):valid_end_date.strftime('%Y-%m-%d'),pos],\r\n",
        "                                     'start': pd.Timestamp(pred_start_date.strftime('%Y-%m-%d'), freq=freq),\r\n",
        "                                     FieldName.FEAT_STATIC_CAT:[pos_group_dict[pos],meas_dict[pos]]}]\r\n",
        "                        ,\r\n",
        "                    freq=freq)\r\n",
        "    prediction = next(predictor.predict(validate_ds_pred))\r\n",
        "    yhat_mean = prediction.mean\r\n",
        "    out['y'] = use_diff_2018_2019_df.loc[pred_start_date.strftime('%Y-%m-%d'):pred_end_date.strftime('%Y-%m-%d'),pos]\r\n",
        "    out['yhat'] = yhat_mean.tolist()\r\n",
        "    out['station']=pos\r\n",
        "    all_df = pd.concat([all_df,out],axis=0)\r\n",
        "    calc_pred = all_df.dropna(subset=['y','yhat'],axis=0)\r\n",
        "    error = mean_squared_error(calc_pred[calc_pred['station']==pos]['y'],calc_pred[calc_pred['station']==pos]['yhat'])*10000\r\n",
        "    print(f'stations {pos} error is {error}')\r\n",
        "calc_pred = all_df.dropna(subset=['y','yhat'],axis=0)\r\n",
        "error = mean_squared_error(calc_pred['y'],calc_pred['yhat'])*10000\r\n",
        "print('*'*20)\r\n",
        "print(f'mean error is {error}')"
      ],
      "execution_count": 45,
      "outputs": [
        {
          "output_type": "stream",
          "text": [
            "validating...\n",
            "stations 1 error is 1.3657812894717367\n",
            "stations 2 error is 0.9919208264666053\n",
            "stations 3 error is 1.1335393987023192\n",
            "stations 4 error is 6.842846012948689\n",
            "stations 5 error is 0.9820994508937451\n",
            "stations 6 error is 11.278863192804296\n",
            "stations 7 error is 3.167732332859582\n",
            "stations 8 error is 3.337866807158339\n",
            "stations 9 error is 8.828100933230823\n",
            "stations 10 error is 4.190931604146147\n",
            "stations 11 error is 7.229760668311233\n",
            "stations 12 error is 5.947048371901335\n",
            "stations 13 error is 30.25263444127636\n",
            "stations 14 error is 3.2148550309620765\n",
            "stations 15 error is 5.797407440324144\n",
            "stations 16 error is 2.31319440528638\n",
            "stations 17 error is 1.7926422612468622\n",
            "stations 18 error is 10.15757072442029\n",
            "stations 19 error is 1.7297708359129909\n",
            "stations 20 error is 2.984495400160004\n",
            "stations 21 error is 3.2794558543368155\n",
            "stations 22 error is 2.98027960100008\n",
            "stations 23 error is 6.673287866229629\n",
            "stations 24 error is 6.23406917503652\n",
            "stations 25 error is 7.159531231007353\n",
            "stations 26 error is 12.12602331007037\n",
            "stations 27 error is 2.8005058632901374\n",
            "stations 28 error is 0.9121983071390869\n",
            "stations 29 error is 1.234296167561323\n",
            "stations 30 error is 9.55839429768672\n",
            "********************\n",
            "mean error is 5.549903436728066\n"
          ],
          "name": "stdout"
        }
      ]
    },
    {
      "cell_type": "markdown",
      "metadata": {
        "id": "il6OIVyO2fst"
      },
      "source": [
        "When choosing these windows we ensure that entire prediction range is always covered\r\n",
        "by the available ground truth data, but we may chose t = 1 to lie before the start of the time series,\r\n",
        "e.g. 2012-12-01 in the example above, padding the unobserved target with zeros\r\n",
        "\r\n",
        "if the context period in the test data is less than the training data, zeros are padded."
      ]
    },
    {
      "cell_type": "code",
      "metadata": {
        "colab": {
          "base_uri": "https://localhost:8080/"
        },
        "id": "F6DltzRIJl61",
        "outputId": "8095df06-633c-40ee-9c69-74bab84de84e"
      },
      "source": [
        "supplement_period = [['2020-01-02','2020-01-31'],['2020-03-02','2020-03-31'],['2020-05-02','2020-05-31'],['2020-08-01','2020-08-31']]\r\n",
        "predict_period = [['2020-02-01','2020-02-21'],['2020-04-01','2020-04-21'],['2020-06-01','2020-06-21'],['2020-09-01','2020-09-21']]\r\n",
        "pred_2020_all = pd.DataFrame() \r\n",
        "use_diff_2020_df = pressure_2020_df_diff\r\n",
        "\r\n",
        "all_df = pd.DataFrame()\r\n",
        "print('predicting...')\r\n",
        "for pos in G_POST_LIST:\r\n",
        "    print(f'predict {pos} pos')\r\n",
        "    for s,p in zip(supplement_period,predict_period):\r\n",
        "        out = pd.DataFrame()\r\n",
        "        mx.random.seed(r_seed)\r\n",
        "        np.random.seed(r_seed)\r\n",
        "        test_data = ListDataset([{'target': use_diff_2020_df.loc[s[0]:s[1],pos], 'start': pd.Timestamp(p[0],freq=freq),FieldName.FEAT_STATIC_CAT:[pos_group_dict[pos],meas_dict[pos]]}],freq=freq)\r\n",
        "        prediction = next(predictor.predict(test_data))\r\n",
        "        out['DateTime'] = [pd.Timestamp(p[0])+pd.Timedelta(i,unit='H') for i in range(21*24)]\r\n",
        "        yhat_mean = prediction.mean\r\n",
        "        out['pressure_dff'] = yhat_mean.tolist()\r\n",
        "        out['pressure'] = out['pressure_dff'].values+pressure_2020_df.loc[s[0]:s[1],pos].iloc[-21*24:].interpolate().values\r\n",
        "        out['MeasName']=pos\r\n",
        "        all_df = pd.concat([all_df,out],axis=0)\r\n"
      ],
      "execution_count": 46,
      "outputs": [
        {
          "output_type": "stream",
          "text": [
            "predicting...\n",
            "predict 1 pos\n",
            "predict 2 pos\n",
            "predict 3 pos\n",
            "predict 4 pos\n",
            "predict 5 pos\n",
            "predict 6 pos\n",
            "predict 7 pos\n",
            "predict 8 pos\n",
            "predict 9 pos\n",
            "predict 10 pos\n",
            "predict 11 pos\n",
            "predict 12 pos\n",
            "predict 13 pos\n",
            "predict 14 pos\n",
            "predict 15 pos\n",
            "predict 16 pos\n",
            "predict 17 pos\n",
            "predict 18 pos\n",
            "predict 19 pos\n",
            "predict 20 pos\n",
            "predict 21 pos\n",
            "predict 22 pos\n",
            "predict 23 pos\n",
            "predict 24 pos\n",
            "predict 25 pos\n",
            "predict 26 pos\n",
            "predict 27 pos\n",
            "predict 28 pos\n",
            "predict 29 pos\n",
            "predict 30 pos\n"
          ],
          "name": "stdout"
        }
      ]
    },
    {
      "cell_type": "code",
      "metadata": {
        "id": "cPj3qlBdbadc"
      },
      "source": [
        "final_result_for_1st_round = pd.merge(left=to_predict_df_1st[['id','MeasName','DateTime']],right =all_df[['pressure','MeasName','DateTime']],on = ['MeasName','DateTime'],how='left')"
      ],
      "execution_count": 47,
      "outputs": []
    },
    {
      "cell_type": "code",
      "metadata": {
        "colab": {
          "base_uri": "https://localhost:8080/",
          "height": 283
        },
        "id": "GR4oIXyhbTaK",
        "outputId": "88c4f092-08a1-4ad9-97d0-b80596101826"
      },
      "source": [
        "plt.plot(final_result_for_1st_round[final_result_for_1st_round['MeasName']==8]['pressure'].values)\r\n"
      ],
      "execution_count": 48,
      "outputs": [
        {
          "output_type": "execute_result",
          "data": {
            "text/plain": [
              "[<matplotlib.lines.Line2D at 0x7fc79231cf98>]"
            ]
          },
          "metadata": {
            "tags": []
          },
          "execution_count": 48
        },
        {
          "output_type": "display_data",
          "data": {
            "image/png": "[encoded data removed]",
            "text/plain": [
              "<Figure size 432x288 with 1 Axes>"
            ]
          },
          "metadata": {
            "tags": [],
            "needs_background": "light"
          }
        }
      ]
    },
    {
      "cell_type": "code",
      "metadata": {
        "id": "zoifJoqnZfsF"
      },
      "source": [
        "final_result_for_1st_round[['id','pressure']].to_csv('submit_2021_02_XX.csv',index=False)"
      ],
      "execution_count": 49,
      "outputs": []
    }
  ]
}