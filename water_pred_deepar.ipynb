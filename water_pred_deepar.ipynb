{
  "nbformat": 4,
  "nbformat_minor": 0,
  "metadata": {
    "colab": {
      "name": "water_pred_prophet.ipynb",
      "provenance": [],
      "machine_shape": "hm",
      "mount_file_id": "https://github.com/bingblackbean/water_network_pressure_pred/blob/main/water_pred_deepar.ipynb",
      "authorship_tag": "ABX9TyPh6/0AVZzn2M5EPHo3eB46",
      "include_colab_link": true
    },
    "kernelspec": {
      "name": "python3",
      "display_name": "Python 3"
    },
    "accelerator": "GPU"
  },
  "cells": [
    {
      "cell_type": "markdown",
      "metadata": {
        "id": "view-in-github",
        "colab_type": "text"
      },
      "source": [
        "<a href=\"https://colab.research.google.com/github/bingblackbean/water_supply_network_pressure_pred_deepar/blob/main/water_pred_deepar.ipynb\" target=\"_parent\"><img src=\"https://colab.research.google.com/assets/colab-badge.svg\" alt=\"Open In Colab\"/></a>"
      ]
    },
    {
      "cell_type": "code",
      "metadata": {
        "colab": {
          "base_uri": "https://localhost:8080/"
        },
        "id": "tsv-C_5HoL6C",
        "outputId": "094b61e1-4375-4e0f-bdc5-f4938ad88a18"
      },
      "source": [
        "!pip install gluonts\r\n",
        "!pip install mxnet\r\n",
        "#!pip install -U mxnet-cu101==1.7.0"
      ],
      "execution_count": null,
      "outputs": [
        {
          "output_type": "stream",
          "text": [
            "Requirement already satisfied: gluonts in /usr/local/lib/python3.6/dist-packages (0.6.4)\n",
            "Requirement already satisfied: pydantic<1.7,~=1.1 in /usr/local/lib/python3.6/dist-packages (from gluonts) (1.6.1)\n",
            "Requirement already satisfied: pandas>=1.0 in /usr/local/lib/python3.6/dist-packages (from gluonts) (1.1.5)\n",
            "Requirement already satisfied: toolz~=0.10 in /usr/local/lib/python3.6/dist-packages (from gluonts) (0.11.1)\n",
            "Requirement already satisfied: matplotlib~=3.0 in /usr/local/lib/python3.6/dist-packages (from gluonts) (3.2.2)\n",
            "Requirement already satisfied: ujson~=1.35 in /usr/local/lib/python3.6/dist-packages (from gluonts) (1.35)\n",
            "Requirement already satisfied: tqdm~=4.23 in /usr/local/lib/python3.6/dist-packages (from gluonts) (4.41.1)\n",
            "Requirement already satisfied: holidays>=0.9 in /usr/local/lib/python3.6/dist-packages (from gluonts) (0.10.4)\n",
            "Requirement already satisfied: numpy~=1.16 in /usr/local/lib/python3.6/dist-packages (from gluonts) (1.19.5)\n",
            "Requirement already satisfied: dataclasses>=0.6; python_version < \"3.7\" in /usr/local/lib/python3.6/dist-packages (from pydantic<1.7,~=1.1->gluonts) (0.8)\n",
            "Requirement already satisfied: pytz>=2017.2 in /usr/local/lib/python3.6/dist-packages (from pandas>=1.0->gluonts) (2018.9)\n",
            "Requirement already satisfied: python-dateutil>=2.7.3 in /usr/local/lib/python3.6/dist-packages (from pandas>=1.0->gluonts) (2.8.1)\n",
            "Requirement already satisfied: kiwisolver>=1.0.1 in /usr/local/lib/python3.6/dist-packages (from matplotlib~=3.0->gluonts) (1.3.1)\n",
            "Requirement already satisfied: cycler>=0.10 in /usr/local/lib/python3.6/dist-packages (from matplotlib~=3.0->gluonts) (0.10.0)\n",
            "Requirement already satisfied: pyparsing!=2.0.4,!=2.1.2,!=2.1.6,>=2.0.1 in /usr/local/lib/python3.6/dist-packages (from matplotlib~=3.0->gluonts) (2.4.7)\n",
            "Requirement already satisfied: six in /usr/local/lib/python3.6/dist-packages (from holidays>=0.9->gluonts) (1.15.0)\n",
            "Requirement already satisfied: convertdate<=2.2.0 in /usr/local/lib/python3.6/dist-packages (from holidays>=0.9->gluonts) (2.2.0)\n",
            "Requirement already satisfied: korean-lunar-calendar in /usr/local/lib/python3.6/dist-packages (from holidays>=0.9->gluonts) (0.2.1)\n",
            "Requirement already satisfied: pymeeus<=1,>=0.3.6 in /usr/local/lib/python3.6/dist-packages (from convertdate<=2.2.0->holidays>=0.9->gluonts) (0.3.7)\n",
            "Requirement already satisfied: mxnet in /usr/local/lib/python3.6/dist-packages (1.7.0.post1)\n",
            "Requirement already satisfied: numpy<2.0.0,>1.16.0 in /usr/local/lib/python3.6/dist-packages (from mxnet) (1.19.5)\n",
            "Requirement already satisfied: graphviz<0.9.0,>=0.8.1 in /usr/local/lib/python3.6/dist-packages (from mxnet) (0.8.4)\n",
            "Requirement already satisfied: requests<3,>=2.20.0 in /usr/local/lib/python3.6/dist-packages (from mxnet) (2.23.0)\n",
            "Requirement already satisfied: certifi>=2017.4.17 in /usr/local/lib/python3.6/dist-packages (from requests<3,>=2.20.0->mxnet) (2020.12.5)\n",
            "Requirement already satisfied: urllib3!=1.25.0,!=1.25.1,<1.26,>=1.21.1 in /usr/local/lib/python3.6/dist-packages (from requests<3,>=2.20.0->mxnet) (1.24.3)\n",
            "Requirement already satisfied: chardet<4,>=3.0.2 in /usr/local/lib/python3.6/dist-packages (from requests<3,>=2.20.0->mxnet) (3.0.4)\n",
            "Requirement already satisfied: idna<3,>=2.5 in /usr/local/lib/python3.6/dist-packages (from requests<3,>=2.20.0->mxnet) (2.10)\n"
          ],
          "name": "stdout"
        }
      ]
    },
    {
      "cell_type": "code",
      "metadata": {
        "colab": {
          "base_uri": "https://localhost:8080/"
        },
        "id": "vDr4u2COjzVm",
        "outputId": "f9292ac3-71e9-4b12-9443-91edc1ad323c"
      },
      "source": [
        "import pandas as pd\r\n",
        "import numpy as np\r\n",
        "from google.colab import drive\r\n",
        "from collections import OrderedDict\r\n",
        "from tqdm import tqdm,tqdm_notebook\r\n",
        "import matplotlib.pyplot as plt\r\n",
        "from sklearn.metrics import mean_squared_error\r\n",
        "from pandas.api.types import CategoricalDtype\r\n",
        "from sklearn.model_selection import TimeSeriesSplit\r\n",
        "from gluonts.model.deepar import DeepAREstimator\r\n",
        "from gluonts.trainer import Trainer\r\n",
        "from gluonts.dataset.common import ListDataset\r\n",
        "from gluonts.model import deepar\r\n",
        "from gluonts.dataset.field_names import FieldName\r\n",
        "import mxnet as mx\r\n",
        "import random\r\n",
        "\r\n",
        "r_seed = 2020\r\n",
        "random.seed(r_seed)\r\n",
        "mx.random.seed(r_seed)\r\n",
        "np.random.seed(r_seed)\r\n",
        "\r\n",
        "import gc\r\n",
        "import warnings\r\n",
        "warnings.filterwarnings(\"ignore\")\r\n",
        "drive.mount(\"/content/gdrive\")"
      ],
      "execution_count": null,
      "outputs": [
        {
          "output_type": "stream",
          "text": [
            "Drive already mounted at /content/gdrive; to attempt to forcibly remount, call drive.mount(\"/content/gdrive\", force_remount=True).\n"
          ],
          "name": "stdout"
        }
      ]
    },
    {
      "cell_type": "code",
      "metadata": {
        "id": "75vi8PpXqwER"
      },
      "source": [
        "G_THRESHOLD = 3.5\r\n",
        "G_NOON = 15\r\n",
        "G_MIDNIGHT = 3\r\n",
        "G_SEASON_ON = [5,10]\r\n",
        "G_LOG_FLAG= False\r\n",
        "G_POST_LIST= [i+1 for i in range(30)]"
      ],
      "execution_count": null,
      "outputs": []
    },
    {
      "cell_type": "code",
      "metadata": {
        "id": "qL4qtdX2qxAA"
      },
      "source": [
        "folder = '/content/gdrive/MyDrive/water_pred/' \r\n",
        "pressure_2018_df  = pd.read_csv(folder+'train_水压数据_2018.csv',encoding='utf8')\r\n",
        "pressure_2019_df  = pd.read_csv(folder+'train_水压数据_2019.csv',encoding='utf8')\r\n",
        "pressure_2020_df  = pd.read_csv(folder+'test_水压数据_2020.csv',encoding='utf8')\r\n",
        "weather_2018_2019_df = pd.read_csv(folder+'2018-2019气象数据.csv',encoding='utf8')\r\n",
        "weather_2020_df = pd.read_csv(folder+'2020气象数据.csv',encoding='utf8')\r\n",
        "pressure_2018_2019_df = pd.concat([pressure_2018_df,pressure_2019_df],ignore_index=True)\r\n",
        "\r\n",
        "to_predict_df_1st = pd.read_csv(folder+'to_predict.csv',encoding='utf8')"
      ],
      "execution_count": null,
      "outputs": []
    },
    {
      "cell_type": "code",
      "metadata": {
        "colab": {
          "base_uri": "https://localhost:8080/"
        },
        "id": "kdI97_mAq0tU",
        "outputId": "3a18c41e-8f84-4ac0-d0b5-4baf57a5c307"
      },
      "source": [
        "def format_df(df):\r\n",
        "    df['MeasName'] = pd.to_numeric(df['MeasName'].str.lstrip('站点'))\r\n",
        "    df['Time'] =pd.to_datetime(df['Time'])\r\n",
        "    return df\r\n",
        "\r\n",
        "def reshape_pressure_df(df):\r\n",
        "    # reshape to column-wise\r\n",
        "    df_reshape = pd.DataFrame(None,columns=['DateTime','MeasName','Pressure'])\r\n",
        "    for i in [i for i in range(24)]:\r\n",
        "        per_hour_df = df[['Time','MeasName',f'H{i}']]\r\n",
        "        per_hour_df['Time'] = per_hour_df['Time']+ pd.Timedelta(i,unit='h')\r\n",
        "        per_hour_df.columns=['DateTime','MeasName','Pressure']   \r\n",
        "        df_reshape = pd.concat([df_reshape,per_hour_df])\r\n",
        "    df_reshape = pd.pivot_table(df_reshape, values='Pressure', index=['DateTime'],\r\n",
        "                    columns=['MeasName'])\r\n",
        "    return df_reshape\r\n",
        "\r\n",
        "def dt_features(df):\r\n",
        "    df['hour'] = df.index.hour\r\n",
        "    df['day'] = df.index.day\r\n",
        "    df['weekday'] = df.index.dayofweek\r\n",
        "    df['weeks'] = df.index.weekofyear\r\n",
        "    df['month'] = df.index.month   \r\n",
        "    df['quarter'] = df.index.quarter\r\n",
        "    df['year'] = df.index.year\r\n",
        "    df['season_on'] = (df['month'] > G_SEASON_ON[0]) & (df['month'] < G_SEASON_ON[1])\r\n",
        "    df['season_off'] = ~(df['month'] > G_SEASON_ON[0]) & (df['month'] < G_SEASON_ON[1])\r\n",
        "    return df\r\n",
        "\r\n",
        "def remove_abnormal(df):\r\n",
        "    df[df[[i+1 for i in range(30)]]<=0.1] =None\r\n",
        "    df[df[[i+1 for i in range(30)]]>=0.5] =None\r\n",
        "    return df\r\n",
        "\r\n",
        "def remove_abnormal_z_score(df,by_col='hour',th =3 ):\r\n",
        "    for pos in tqdm(range(1,31,1)):\r\n",
        "        df_zscore=df[[pos,by_col]].copy()\r\n",
        "        f_zscores_all = pd.Series()\r\n",
        "        for i in range(24):\r\n",
        "            f_zscores=(df_zscore[df_zscore[by_col]==i][pos]-df_zscore[df_zscore[by_col]==i][pos].mean())/df_zscore[df_zscore[by_col]==i][pos].std()\r\n",
        "            f_zscores_all= pd.concat([f_zscores_all,f_zscores])\r\n",
        "        f_zscores_all.sort_index(inplace=True)\r\n",
        "        df_zscore.loc[f_zscores_all.abs()> th,pos] = None # must use loc\r\n",
        "        df[pos] = df_zscore[pos]\r\n",
        "    return df\r\n",
        "\r\n",
        "def remove_abnormal_zero_var(df,window =3,th=1e-07):\r\n",
        "    for pos in tqdm(G_POST_LIST):\r\n",
        "        df_pos=df[[pos]].copy()\r\n",
        "        df_pos['var']=df_pos[pos].rolling(window=window,center=False).std()\r\n",
        "        df_pos.loc[df_pos['var'] <= th,pos] = None # must use loc\r\n",
        "        df[pos] = df_pos[pos]\r\n",
        "    return df\r\n",
        "def dt_features_for_submit(df): \r\n",
        "    df['hour'] = pd.to_numeric(df['Hour'].str.lstrip('H'))\r\n",
        "    df['DateTime'] = df['Time']+ pd.to_timedelta(df['hour'], unit='h')\r\n",
        "    df.drop('Hour',axis=1,inplace=True)\r\n",
        "    df['day'] = df['Time'].dt.day\r\n",
        "    df['weekday'] = df['Time'].dt.dayofweek\r\n",
        "    df['weeks'] = df['Time'].dt.weekofyear\r\n",
        "    df['month'] = df['Time'].dt.month   \r\n",
        "    df['quarter'] = df['Time'].dt.quarter\r\n",
        "    df['year'] = df['Time'].dt.year\r\n",
        "    df['season_on'] = (df['month'] > G_SEASON_ON[0]) & (df['month'] < G_SEASON_ON[1])\r\n",
        "    df['season_off'] = ~(df['month'] > G_SEASON_ON[0]) & (df['month'] < G_SEASON_ON[1])\r\n",
        "    return df\r\n",
        "def preproc_df(df):\r\n",
        "    df = format_df(df)\r\n",
        "    df = reshape_pressure_df(df)\r\n",
        "    df = remove_abnormal(df)\r\n",
        "    df =dt_features(df)\r\n",
        "    df = remove_abnormal_z_score(df,th =G_THRESHOLD)\r\n",
        "    df = remove_abnormal_zero_var(df,window =3,th=1e-07)\r\n",
        "\r\n",
        "    return df\r\n",
        "\r\n",
        "def preproc_submit_df(df):\r\n",
        "    df = format_df(df)\r\n",
        "    df = dt_features_for_submit(df)\r\n",
        "    return df\r\n",
        "pressure_2018_2019_df = preproc_df(pressure_2018_2019_df)\r\n",
        "pressure_2020_df = preproc_df(pressure_2020_df)\r\n",
        "to_predict_df_1st = preproc_submit_df(to_predict_df_1st)\r\n",
        "print(pressure_2018_2019_df.shape)\r\n",
        "print(pressure_2020_df.shape)\r\n",
        "print(to_predict_df_1st.shape)"
      ],
      "execution_count": null,
      "outputs": [
        {
          "output_type": "stream",
          "text": [
            "100%|██████████| 30/30 [00:02<00:00, 11.73it/s]\n",
            "100%|██████████| 30/30 [00:00<00:00, 235.24it/s]\n",
            "100%|██████████| 30/30 [00:02<00:00, 13.65it/s]\n",
            "100%|██████████| 30/30 [00:00<00:00, 335.72it/s]"
          ],
          "name": "stderr"
        },
        {
          "output_type": "stream",
          "text": [
            "(17520, 39)\n",
            "(2976, 39)\n",
            "(40320, 13)\n"
          ],
          "name": "stdout"
        },
        {
          "output_type": "stream",
          "text": [
            "\n"
          ],
          "name": "stderr"
        }
      ]
    },
    {
      "cell_type": "code",
      "metadata": {
        "id": "6o-tD2aSq-Ky"
      },
      "source": [
        "def group_by_period(df,period_col):\r\n",
        "    df_group= df[[i+1 for i in range(30)]+[period_col]].groupby(period_col).mean()\r\n",
        "    return df_group\r\n",
        "\r\n",
        "def proc_weather_temp(df):\r\n",
        "    df[['weather1','weather2']] = df['天气'].str.split('转', 2, expand=True)\r\n",
        "    df['weather1'].replace('',np.nan,inplace=True)\r\n",
        "    df['weather2'].replace('',np.nan,inplace=True)\r\n",
        "    df['weather2'].fillna(df['weather1'],inplace=True)\r\n",
        "    df['weather1'].fillna(df['weather2'],inplace=True)\r\n",
        "    df[['high_temp','low_temp']] = df['气温'].str.split('～', 2, expand=True)\r\n",
        "    df['high_temp']= df['high_temp'].str.strip('C ℃') # must include space in the string\r\n",
        "    df['low_temp']= df['low_temp'].str.strip('C ℃') # must include space in the string\r\n",
        "    df['high_temp'].replace('',np.nan,inplace=True)\r\n",
        "    df['high_temp'] = df['high_temp'].fillna(df['low_temp']).astype(int)\r\n",
        "    df['low_temp'] = df['low_temp'].fillna(df['high_temp']).astype(int)\r\n",
        "    df = df.drop(['天气','气温','风向'],axis=1).rename({'日期':'DateTime'},axis=1)\r\n",
        "    df['DateTime'] =pd.to_datetime(df['DateTime'])\r\n",
        "    df = df.set_index('DateTime').sort_index()\r\n",
        "    return df\r\n",
        "\r\n",
        "def resample_weather(df,last_day):\r\n",
        "    last_day = pd.Timestamp(last_day)\r\n",
        "    next_day = pd.Timestamp(last_day) + pd.Timedelta(1,'D')\r\n",
        "    df.loc[pd.Timestamp(next_day)] = df.loc[last_day] \r\n",
        "    df_resample = df[['weather1','weather2','high_temp','low_temp']].resample(rule='H').interpolate('pad')\r\n",
        "    df_resample['hour'] = df_resample.index.hour\r\n",
        "    df_resample.loc[df_resample['hour']!=G_NOON,'high_temp']= None\r\n",
        "    df_resample.loc[df_resample['hour']!=G_MIDNIGHT,'low_temp']= None\r\n",
        "    df_resample['temp'] = df_resample[['high_temp','low_temp']].max(axis=1)\r\n",
        "    df_resample['temp'].interpolate('linear',inplace=True)\r\n",
        "    df_resample['temp'].fillna(method='bfill',inplace=True)\r\n",
        "    return df_resample[['weather1','weather2','temp']]\r\n",
        "\r\n",
        "def encoding_weather(df):\r\n",
        "    weather_list = ['小雪', '小到中雪','中到大雪', '大雪', '扬沙', '多云', '晴', '阴', '雾', '雨夹雪','雷阵雨', '阵雨', '雨','小雨', '小到中雨','中雨', '中到大雨','大雨',  '暴雨']\r\n",
        "    weather_type = CategoricalDtype(categories=weather_list,ordered=True)\r\n",
        "    df['weather1'] = df['weather1'].astype(weather_type).cat.codes\r\n",
        "    df['weather2'] = df['weather2'].astype(weather_type).cat.codes\r\n",
        "    return df\r\n",
        "\r\n",
        "weather_2018_2019_df = proc_weather_temp(weather_2018_2019_df)\r\n",
        "weather_2020_df = proc_weather_temp(weather_2020_df)\r\n",
        "weather_2018_2019_df_resample = resample_weather(weather_2018_2019_df,'2019-12-31')\r\n",
        "weather_2020_df_resample = resample_weather(weather_2020_df,'2020-11-09')\r\n",
        "weather_2018_2019_df_resample = encoding_weather(weather_2018_2019_df_resample)\r\n",
        "weather_2020_df_resample = encoding_weather(weather_2020_df_resample)"
      ],
      "execution_count": null,
      "outputs": []
    },
    {
      "cell_type": "code",
      "metadata": {
        "colab": {
          "base_uri": "https://localhost:8080/"
        },
        "id": "RzVTsZWtrCH4",
        "outputId": "a7657c55-3349-4bd7-bdf1-a3808fe32215"
      },
      "source": [
        "pressure_2018_2019_df = pd.merge(left=pressure_2018_2019_df,right=weather_2018_2019_df_resample,left_index=True, right_index=True,how='left')\r\n",
        "print(pressure_2018_2019_df.head())\r\n",
        "pressure_2020_df = pd.merge(left=pressure_2020_df,right=weather_2020_df_resample,left_index=True, right_index=True,how='left')\r\n",
        "print(pressure_2020_df.head())"
      ],
      "execution_count": null,
      "outputs": [
        {
          "output_type": "stream",
          "text": [
            "                            1        2         3  ...  weather1  weather2      temp\n",
            "DateTime                                          ...                              \n",
            "2018-01-01 00:00:00  0.288625  0.31775  0.301375  ...         5         5 -4.000000\n",
            "2018-01-01 01:00:00  0.292000  0.31925  0.303250  ...         5         5 -4.000000\n",
            "2018-01-01 02:00:00  0.290500  0.32000  0.302125  ...         5         5 -4.000000\n",
            "2018-01-01 03:00:00  0.299500  0.32150  0.303250  ...         5         5 -4.000000\n",
            "2018-01-01 04:00:00  0.300250  0.32675  0.307000  ...         5         5 -3.583333\n",
            "\n",
            "[5 rows x 42 columns]\n",
            "                            1         2         3  ...  weather1  weather2      temp\n",
            "DateTime                                           ...                              \n",
            "2020-01-01 00:00:00  0.309625  0.343250  0.324125  ...         5         5 -2.000000\n",
            "2020-01-01 01:00:00  0.325750  0.359375  0.341000  ...         5         5 -2.000000\n",
            "2020-01-01 02:00:00  0.332875  0.362750  0.348125  ...         5         5 -2.000000\n",
            "2020-01-01 03:00:00  0.324250  0.355625  0.338750  ...         5         5 -2.000000\n",
            "2020-01-01 04:00:00  0.331750  0.361625  0.346250  ...         5         5 -1.583333\n",
            "\n",
            "[5 rows x 42 columns]\n"
          ],
          "name": "stdout"
        }
      ]
    },
    {
      "cell_type": "code",
      "metadata": {
        "colab": {
          "base_uri": "https://localhost:8080/"
        },
        "id": "FKAxKAjEWat_",
        "outputId": "6e6302f8-57c6-45fb-e87b-47dc543096f9"
      },
      "source": [
        "def fill_gap_by_previous_window(df,windows=7*24): # if happenly last previous period has smilar missing gap, it is hard to fill (so try run this funtion multiple times)\r\n",
        "    for pos in G_POST_LIST:\r\n",
        "        last_score = 0\r\n",
        "        while df.iloc[windows:,:][pos].isna().sum() !=0: # don;t need to check first window (we cannot fill this period)\r\n",
        "            if last_score == df.iloc[windows:,:][pos].isna().sum():\r\n",
        "                break\r\n",
        "            else:\r\n",
        "                pf_df = df[[pos]]\r\n",
        "                pf_df['yhat'] = pf_df[pos].shift(windows)\r\n",
        "                pf_df[pos].fillna(pf_df['yhat'],inplace=True)\r\n",
        "                df[pos] = pf_df[pos]\r\n",
        "            last_score = df.iloc[windows:,:][pos].isna().sum()\r\n",
        "    return df\r\n",
        "for i in tqdm(range(100)):\r\n",
        "    pressure_2018_2019_df = fill_gap_by_previous_window(pressure_2018_2019_df,windows=7*24)"
      ],
      "execution_count": null,
      "outputs": [
        {
          "output_type": "stream",
          "text": [
            "100%|██████████| 100/100 [00:02<00:00, 42.64it/s]\n"
          ],
          "name": "stderr"
        }
      ]
    },
    {
      "cell_type": "code",
      "metadata": {
        "colab": {
          "base_uri": "https://localhost:8080/"
        },
        "id": "4GuwTi0kjL3E",
        "outputId": "feef2d38-0a6e-4f95-e71f-f8a5d7d98802"
      },
      "source": [
        "pressure_2020_df.isna().sum()\r\n",
        "for i in tqdm(range(100)):\r\n",
        "    pressure_2020_df = fill_gap_by_previous_window(pressure_2020_df,windows=7*24)"
      ],
      "execution_count": null,
      "outputs": [
        {
          "output_type": "stream",
          "text": [
            "100%|██████████| 100/100 [00:02<00:00, 48.36it/s]\n"
          ],
          "name": "stderr"
        }
      ]
    },
    {
      "cell_type": "code",
      "metadata": {
        "colab": {
          "base_uri": "https://localhost:8080/",
          "height": 309
        },
        "id": "MIeFcwWhOGNd",
        "outputId": "af90a677-8b0a-4dee-920a-9bd027519d98"
      },
      "source": [
        "# predict temperature\r\n",
        "from fbprophet import Prophet\r\n",
        "temp_model = Prophet(yearly_seasonality=True,changepoint_prior_scale=0.01,seasonality_prior_scale=100)\r\n",
        "temp_df =weather_2018_2019_df_resample[['temp']]\r\n",
        "temp_df['ds'] = temp_df.index  \r\n",
        "temp_df.rename({'temp': 'y'}, axis=1, inplace=True) \r\n",
        "temp_model.fit(temp_df)\r\n",
        "\r\n",
        "to_predict_1st_gr = to_predict_df_1st.groupby('DateTime').mean()\r\n",
        "to_predict_1st_gr['ds'] = to_predict_1st_gr.index  \r\n",
        "to_predict_1st_temp_yhat = temp_model.predict(to_predict_1st_gr)\r\n",
        "to_predict_1st_temp_yhat.set_index('ds',inplace=True,drop=False)\r\n",
        "weather_2020_df_resample['temp'].plot()\r\n",
        "to_predict_1st_temp_yhat['yhat'].plot()"
      ],
      "execution_count": null,
      "outputs": [
        {
          "output_type": "execute_result",
          "data": {
            "text/plain": [
              "<matplotlib.axes._subplots.AxesSubplot at 0x7f64890eef28>"
            ]
          },
          "metadata": {
            "tags": []
          },
          "execution_count": 43
        },
        {
          "output_type": "display_data",
          "data": {
            "image/png": "[encoded data removed]",
            "text/plain": [
              "<Figure size 432x288 with 1 Axes>"
            ]
          },
          "metadata": {
            "tags": [],
            "needs_background": "light"
          }
        }
      ]
    },
    {
      "cell_type": "code",
      "metadata": {
        "id": "GvGFwEe2ONiq"
      },
      "source": [
        "to_predict_temp_date_df = pd.DataFrame()\r\n",
        "for ds in ['2020-02-01','2020-04-01','2020-06-01','2020-09-01']:\r\n",
        "    temp_date_df = pd.DataFrame()\r\n",
        "    temp_date_df['ds']=[pd.Timestamp(ds)+pd.Timedelta(i,unit='H') for i in range(21*24)]\r\n",
        "    to_predict_temp_date_df = pd.concat([to_predict_temp_date_df,temp_date_df],axis=0)\r\n",
        "\r\n",
        "to_predict_1st_temp_yhat = temp_model.predict(to_predict_temp_date_df)\r\n",
        "to_predict_1st_temp_yhat['DateTime'] = to_predict_1st_temp_yhat['ds']\r\n",
        "to_predict_1st_temp_yhat.set_index('DateTime',inplace=True,drop=True)\r\n",
        "pressure_2020_df = pd.merge(left=pressure_2020_df,right=to_predict_1st_temp_yhat[['yhat']],left_index=True,right_index=True,how='outer')\r\n",
        "pressure_2020_df['temp'].fillna(pressure_2020_df['yhat'],inplace=True)"
      ],
      "execution_count": null,
      "outputs": []
    },
    {
      "cell_type": "code",
      "metadata": {
        "id": "xwgS_jLQOchZ"
      },
      "source": [
        "def diff_pos(df,pos_list,periods=1):\r\n",
        "    diff_df = df.copy()\r\n",
        "    for c in df.columns:\r\n",
        "        if c in pos_list:\r\n",
        "            diff_df[c] = df[c].diff(periods=periods)\r\n",
        "        else:\r\n",
        "            diff_df[c] = df[c]\r\n",
        "    return diff_df"
      ],
      "execution_count": null,
      "outputs": []
    },
    {
      "cell_type": "code",
      "metadata": {
        "id": "ZMtIEV77Osu6"
      },
      "source": [
        "diff_periods = 21*24\r\n",
        "pressure_2020_df_diff = diff_pos(pressure_2020_df,G_POST_LIST,diff_periods)\r\n",
        "pressure_2018_2019_df_diff = diff_pos(pressure_2018_2019_df,G_POST_LIST,diff_periods)"
      ],
      "execution_count": null,
      "outputs": []
    },
    {
      "cell_type": "code",
      "metadata": {
        "colab": {
          "base_uri": "https://localhost:8080/"
        },
        "id": "tzFQLijGPow5",
        "outputId": "46f5b4d6-3f04-4723-e5ae-2c6ade4ddb3f"
      },
      "source": [
        "pressure_2020_df_diff[1].head()"
      ],
      "execution_count": null,
      "outputs": [
        {
          "output_type": "execute_result",
          "data": {
            "text/plain": [
              "DateTime\n",
              "2020-01-01 00:00:00   NaN\n",
              "2020-01-01 01:00:00   NaN\n",
              "2020-01-01 02:00:00   NaN\n",
              "2020-01-01 03:00:00   NaN\n",
              "2020-01-01 04:00:00   NaN\n",
              "Name: 1, dtype: float64"
            ]
          },
          "metadata": {
            "tags": []
          },
          "execution_count": 47
        }
      ]
    },
    {
      "cell_type": "code",
      "metadata": {
        "colab": {
          "base_uri": "https://localhost:8080/"
        },
        "id": "0kIVSqR_PtMW",
        "outputId": "66bf29ad-f965-4f88-dc7b-3d6dc261c6ea"
      },
      "source": [
        "pressure_2020_df[1].head()"
      ],
      "execution_count": null,
      "outputs": [
        {
          "output_type": "execute_result",
          "data": {
            "text/plain": [
              "DateTime\n",
              "2020-01-01 00:00:00    0.309625\n",
              "2020-01-01 01:00:00    0.325750\n",
              "2020-01-01 02:00:00    0.332875\n",
              "2020-01-01 03:00:00    0.324250\n",
              "2020-01-01 04:00:00    0.331750\n",
              "Name: 1, dtype: float64"
            ]
          },
          "metadata": {
            "tags": []
          },
          "execution_count": 48
        }
      ]
    },
    {
      "cell_type": "code",
      "metadata": {
        "colab": {
          "base_uri": "https://localhost:8080/"
        },
        "id": "EVcA035XQj2j",
        "outputId": "e8e2b75d-f4f5-45c2-c2a5-a81d9ff5e88b"
      },
      "source": [
        "pressure_2018_2019_df_diff.loc['2018-06':'2019-10',1]"
      ],
      "execution_count": null,
      "outputs": [
        {
          "output_type": "execute_result",
          "data": {
            "text/plain": [
              "DateTime\n",
              "2018-06-01 00:00:00    0.013875\n",
              "2018-06-01 01:00:00    0.026625\n",
              "2018-06-01 02:00:00    0.031500\n",
              "2018-06-01 03:00:00    0.034500\n",
              "2018-06-01 04:00:00    0.036375\n",
              "                         ...   \n",
              "2019-10-31 19:00:00    0.003750\n",
              "2019-10-31 20:00:00   -0.007500\n",
              "2019-10-31 21:00:00   -0.000750\n",
              "2019-10-31 22:00:00    0.001125\n",
              "2019-10-31 23:00:00    0.005250\n",
              "Name: 1, Length: 12432, dtype: float64"
            ]
          },
          "metadata": {
            "tags": []
          },
          "execution_count": 49
        }
      ]
    },
    {
      "cell_type": "code",
      "metadata": {
        "colab": {
          "base_uri": "https://localhost:8080/"
        },
        "id": "bO0Wre-QW7vg",
        "outputId": "196f34bb-e33b-4c92-d36d-fca9a7059b57"
      },
      "source": [
        "# final model\r\n",
        "freq = \"1H\"\r\n",
        "prediction_length = 21*24\r\n",
        "context_length = 28*24\r\n",
        "print(f'seed is {r_seed}')\r\n",
        "mx.random.seed(r_seed)\r\n",
        "np.random.seed(r_seed)\r\n",
        "\r\n",
        "use_diff_2018_2019_df = pressure_2018_2019_df_diff\r\n",
        "\r\n",
        "pos_group_dict = {1:6,2:0,3:6,4:0,5:6,6:4,7:6,8:0,9:4,10:4,11:5,12:6,13:6,14:2,15:1,16:3,17:7,18:6,19:6,20:6,21:6,22:5,23:4,24:4,25:6,26:5,27:5,28:6,29:6,30:5}\r\n",
        "pos_group_dict = {1:1,2:0,3:1,4:0,5:1,6:1,7:1,8:0,9:1,10:1,11:1,12:1,13:1,14:1,15:1,16:1,17:1,18:1,19:1,20:1,21:1,22:1,23:1,24:1,25:1,26:1,27:1,28:1,29:1,30:1}\r\n",
        "pos_group_dict = {1:1,2:1,3:1,4:1,5:1,6:1,7:1,8:1,9:1,10:1,11:1,12:1,13:1,14:1,15:1,16:1,17:1,18:1,19:1,20:1,21:1,22:1,23:1,24:1,25:1,26:1,27:1,28:1,29:1,30:1}\r\n",
        "\r\n",
        "train_ds = ListDataset([{'target': use_diff_2018_2019_df.loc['2018-06':'2019-10',pos], 'start': pd.Timestamp(\"2018-06-01\", freq=freq),FieldName.FEAT_DYNAMIC_REAL: use_diff_2018_2019_df.loc['2018-06':'2019-10',['temp']].values.T,FieldName.FEAT_STATIC_CAT:[pos_group_dict[pos]]} for pos in G_POST_LIST]\r\n",
        "                        ,\r\n",
        "                    freq=freq)\r\n",
        "validate_ds = ListDataset([{'target': use_diff_2018_2019_df.loc['2019-11':'2019-12',pos], 'start': pd.Timestamp(\"2019-11-01\", freq=freq),FieldName.FEAT_DYNAMIC_REAL: use_diff_2018_2019_df.loc['2019-11':'2019-12',['temp']].values.T,FieldName.FEAT_STATIC_CAT:[pos_group_dict[pos]]} for pos in G_POST_LIST]\r\n",
        "                        ,\r\n",
        "                    freq=freq)\r\n",
        "trainer = Trainer(epochs=10,batch_size=128,num_batches_per_epoch=20,patience=5)\r\n",
        "estimator = deepar.DeepAREstimator(\r\n",
        "    freq=freq, prediction_length=prediction_length, trainer=trainer,context_length=context_length,use_feat_dynamic_real =True,num_layers=2,num_cells=40,use_feat_static_cat  =True,cardinality=[30])\r\n",
        "predictor = estimator.train(training_data=train_ds)#,validation_data=validate_ds)\r\n"
      ],
      "execution_count": null,
      "outputs": [
        {
          "output_type": "stream",
          "text": [
            "INFO:gluonts.trainer:Start model training\n",
            "INFO:gluonts.trainer:Epoch[0] Learning rate is 0.001\n",
            "  0%|          | 0/20 [00:00<?, ?it/s]"
          ],
          "name": "stderr"
        },
        {
          "output_type": "stream",
          "text": [
            "seed is 2020\n",
            "learning rate from ``lr_scheduler`` has been overwritten by ``learning_rate`` in optimizer.\n"
          ],
          "name": "stdout"
        },
        {
          "output_type": "stream",
          "text": [
            "INFO:gluonts.trainer:Number of parameters in DeepARTrainingNetwork: 30493\n",
            "100%|██████████| 20/20 [01:40<00:00,  5.05s/it, epoch=1/10, avg_epoch_loss=-2.45]\n",
            "INFO:gluonts.trainer:Epoch[0] Elapsed time 100.938 seconds\n",
            "INFO:gluonts.trainer:Epoch[0] Evaluation metric 'epoch_loss'=-2.454587\n",
            "INFO:gluonts.trainer:Epoch[1] Learning rate is 0.001\n",
            "100%|██████████| 20/20 [01:06<00:00,  3.33s/it, epoch=2/10, avg_epoch_loss=-2.72]\n",
            "INFO:gluonts.trainer:Epoch[1] Elapsed time 66.658 seconds\n",
            "INFO:gluonts.trainer:Epoch[1] Evaluation metric 'epoch_loss'=-2.717111\n",
            "INFO:gluonts.trainer:Epoch[2] Learning rate is 0.001\n",
            "100%|██████████| 20/20 [01:05<00:00,  3.30s/it, epoch=3/10, avg_epoch_loss=-2.79]\n",
            "INFO:gluonts.trainer:Epoch[2] Elapsed time 65.908 seconds\n",
            "INFO:gluonts.trainer:Epoch[2] Evaluation metric 'epoch_loss'=-2.787063\n",
            "INFO:gluonts.trainer:Epoch[3] Learning rate is 0.001\n",
            "100%|██████████| 20/20 [01:08<00:00,  3.43s/it, epoch=4/10, avg_epoch_loss=-2.84]\n",
            "INFO:gluonts.trainer:Epoch[3] Elapsed time 68.532 seconds\n",
            "INFO:gluonts.trainer:Epoch[3] Evaluation metric 'epoch_loss'=-2.836018\n",
            "INFO:gluonts.trainer:Epoch[4] Learning rate is 0.001\n",
            "100%|██████████| 20/20 [01:08<00:00,  3.45s/it, epoch=5/10, avg_epoch_loss=-2.87]\n",
            "INFO:gluonts.trainer:Epoch[4] Elapsed time 68.999 seconds\n",
            "INFO:gluonts.trainer:Epoch[4] Evaluation metric 'epoch_loss'=-2.873936\n",
            "INFO:gluonts.trainer:Epoch[5] Learning rate is 0.001\n",
            "100%|██████████| 20/20 [01:07<00:00,  3.39s/it, epoch=6/10, avg_epoch_loss=-2.93]\n",
            "INFO:gluonts.trainer:Epoch[5] Elapsed time 67.803 seconds\n",
            "INFO:gluonts.trainer:Epoch[5] Evaluation metric 'epoch_loss'=-2.932357\n",
            "INFO:gluonts.trainer:Epoch[6] Learning rate is 0.001\n",
            "100%|██████████| 20/20 [01:06<00:00,  3.33s/it, epoch=7/10, avg_epoch_loss=-2.97]\n",
            "INFO:gluonts.trainer:Epoch[6] Elapsed time 66.644 seconds\n",
            "INFO:gluonts.trainer:Epoch[6] Evaluation metric 'epoch_loss'=-2.966616\n",
            "INFO:gluonts.trainer:Epoch[7] Learning rate is 0.001\n",
            "100%|██████████| 20/20 [01:06<00:00,  3.33s/it, epoch=8/10, avg_epoch_loss=-3.01]\n",
            "INFO:gluonts.trainer:Epoch[7] Elapsed time 66.598 seconds\n",
            "INFO:gluonts.trainer:Epoch[7] Evaluation metric 'epoch_loss'=-3.008919\n",
            "INFO:gluonts.trainer:Epoch[8] Learning rate is 0.001\n",
            "100%|██████████| 20/20 [01:07<00:00,  3.37s/it, epoch=9/10, avg_epoch_loss=-3.03]\n",
            "INFO:gluonts.trainer:Epoch[8] Elapsed time 67.432 seconds\n",
            "INFO:gluonts.trainer:Epoch[8] Evaluation metric 'epoch_loss'=-3.028158\n",
            "INFO:gluonts.trainer:Epoch[9] Learning rate is 0.001\n",
            "100%|██████████| 20/20 [01:08<00:00,  3.41s/it, epoch=10/10, avg_epoch_loss=-3.04]\n",
            "INFO:gluonts.trainer:Epoch[9] Elapsed time 68.144 seconds\n",
            "INFO:gluonts.trainer:Epoch[9] Evaluation metric 'epoch_loss'=-3.039646\n",
            "INFO:root:Computing averaged parameters.\n",
            "INFO:root:Loading averaged parameters.\n",
            "INFO:gluonts.trainer:End model training\n"
          ],
          "name": "stderr"
        }
      ]
    },
    {
      "cell_type": "code",
      "metadata": {
        "colab": {
          "base_uri": "https://localhost:8080/"
        },
        "id": "ZQkEUROECrnH",
        "outputId": "e4a85b80-1fd2-4732-c2f5-3b64e4fe9400"
      },
      "source": [
        "from gluonts.evaluation.backtest import make_evaluation_predictions\r\n",
        "\r\n",
        "forecast_it, ts_it = make_evaluation_predictions(\r\n",
        "    dataset=validate_ds,  # test dataset\r\n",
        "    predictor=predictor,  # predictor\r\n",
        "    num_samples=prediction_length,  # number of sample paths we want for evaluation\r\n",
        ")\r\n",
        "\r\n",
        "forecasts = list(forecast_it)\r\n",
        "tss = list(ts_it)\r\n",
        "from gluonts.evaluation import Evaluator\r\n",
        "import json\r\n",
        "evaluator = Evaluator(quantiles=[0.1, 0.5, 0.9])\r\n",
        "agg_metrics, item_metrics = evaluator(iter(tss), iter(forecasts), num_series=30)\r\n",
        "print(json.dumps(agg_metrics, indent=4))"
      ],
      "execution_count": null,
      "outputs": [
        {
          "output_type": "stream",
          "text": [
            "Running evaluation: 100%|██████████| 30/30 [00:00<00:00, 330.09it/s]\n"
          ],
          "name": "stderr"
        },
        {
          "output_type": "stream",
          "text": [
            "{\n",
            "    \"MSE\": 0.0005453580232810171,\n",
            "    \"abs_error\": 226.15096831321716,\n",
            "    \"abs_target_sum\": 231.29268169403076,\n",
            "    \"abs_target_mean\": 0.015297135032673992,\n",
            "    \"seasonal_error\": 0.015220939501737935,\n",
            "    \"MASE\": 0.919820733592805,\n",
            "    \"MAPE\": 1.8178296259532585,\n",
            "    \"sMAPE\": 1.3464665278145218,\n",
            "    \"OWA\": NaN,\n",
            "    \"MSIS\": 7.583472066906375,\n",
            "    \"QuantileLoss[0.1]\": 106.48217725639695,\n",
            "    \"Coverage[0.1]\": 0.06263227513227512,\n",
            "    \"QuantileLoss[0.5]\": 226.15097398629496,\n",
            "    \"Coverage[0.5]\": 0.4337962962962963,\n",
            "    \"QuantileLoss[0.9]\": 125.51869844846661,\n",
            "    \"Coverage[0.9]\": 0.8912037037037037,\n",
            "    \"RMSE\": 0.023352901817140777,\n",
            "    \"NRMSE\": 1.5266193157908348,\n",
            "    \"ND\": 0.9777696667998541,\n",
            "    \"wQuantileLoss[0.1]\": 0.4603784973934394,\n",
            "    \"wQuantileLoss[0.5]\": 0.9777696913275553,\n",
            "    \"wQuantileLoss[0.9]\": 0.5426833980614701,\n",
            "    \"mean_absolute_QuantileLoss\": 152.7172832303862,\n",
            "    \"mean_wQuantileLoss\": 0.660277195594155,\n",
            "    \"MAE_Coverage\": 0.037455908289241634\n",
            "}\n"
          ],
          "name": "stdout"
        }
      ]
    },
    {
      "cell_type": "code",
      "metadata": {
        "colab": {
          "base_uri": "https://localhost:8080/"
        },
        "id": "nCcFZBPLEAV0",
        "outputId": "0ca39d5b-f020-4da8-f909-a53600ed1449"
      },
      "source": [
        "print('validating...')\r\n",
        "all_df = pd.DataFrame()\r\n",
        "\r\n",
        "valid_start_date = pd.Timestamp('2019-11-01')\r\n",
        "valid_end_date = valid_start_date + pd.Timedelta(int(context_length/24-1),unit='D')\r\n",
        "pred_start_date = valid_end_date + pd.Timedelta(1,unit='D')\r\n",
        "pred_end_date  = pred_start_date + pd.Timedelta(int(prediction_length/24-1),unit='D')\r\n",
        "for pos in G_POST_LIST:\r\n",
        "    out = pd.DataFrame()\r\n",
        "    mx.random.seed(r_seed)\r\n",
        "    np.random.seed(r_seed)\r\n",
        "    validate_ds_pred = ListDataset([{'target': use_diff_2018_2019_df.loc[valid_start_date.strftime('%Y-%m-%d'):valid_end_date.strftime('%Y-%m-%d'),pos],\r\n",
        "                                     'start': pd.Timestamp(pred_start_date.strftime('%Y-%m-%d'), freq=freq),\r\n",
        "                                     FieldName.FEAT_DYNAMIC_REAL: use_diff_2018_2019_df.loc[valid_start_date.strftime('%Y-%m-%d'):pred_end_date.strftime('%Y-%m-%d'),['temp']].values.T,FieldName.FEAT_STATIC_CAT:[pos_group_dict[pos]]}]\r\n",
        "                        ,\r\n",
        "                    freq=freq)\r\n",
        "    prediction = next(predictor.predict(validate_ds_pred))\r\n",
        "    yhat_mean = prediction.mean\r\n",
        "    out['y'] = use_diff_2018_2019_df.loc[pred_start_date.strftime('%Y-%m-%d'):pred_end_date.strftime('%Y-%m-%d'),pos]\r\n",
        "    out['yhat'] = yhat_mean.tolist()\r\n",
        "    out['station']=pos\r\n",
        "    all_df = pd.concat([all_df,out],axis=0)\r\n",
        "    calc_pred = all_df.dropna(subset=['y','yhat'],axis=0)\r\n",
        "    error = mean_squared_error(calc_pred[calc_pred['station']==pos]['y'],calc_pred[calc_pred['station']==pos]['yhat'])*10000\r\n",
        "    print(f'stations {pos} error is {error}')\r\n",
        "calc_pred = all_df.dropna(subset=['y','yhat'],axis=0)\r\n",
        "error = mean_squared_error(calc_pred['y'],calc_pred['yhat'])*10000\r\n",
        "print('*'*20)\r\n",
        "print(f'mean error is {error}')\r\n"
      ],
      "execution_count": null,
      "outputs": [
        {
          "output_type": "stream",
          "text": [
            "validating...\n",
            "stations 1 error is 0.6769553857155235\n",
            "stations 2 error is 0.6207287347495963\n",
            "stations 3 error is 0.6482384826291122\n",
            "stations 4 error is 4.391913442923201\n",
            "stations 5 error is 0.8164678137763461\n",
            "stations 6 error is 17.39289953740009\n",
            "stations 7 error is 2.068074754200214\n",
            "stations 8 error is 2.8413219280248354\n",
            "stations 9 error is 16.0451127065489\n",
            "stations 10 error is 6.6941715614935715\n",
            "stations 11 error is 3.888358395277318\n",
            "stations 12 error is 3.017441948751569\n",
            "stations 13 error is 22.053681366945195\n",
            "stations 14 error is 2.3318049609372387\n",
            "stations 15 error is 33.07338653292795\n",
            "stations 16 error is 1.992728112943686\n",
            "stations 17 error is 2.344894605747336\n",
            "stations 18 error is 10.80070287546402\n",
            "stations 19 error is 1.0940746504476893\n",
            "stations 20 error is 1.93339096104214\n",
            "stations 21 error is 1.8267615008863898\n",
            "stations 22 error is 2.1268256907931304\n",
            "stations 23 error is 8.317571162077263\n",
            "stations 24 error is 5.777879850025015\n",
            "stations 25 error is 4.231089022611594\n",
            "stations 26 error is 3.5333306777409113\n",
            "stations 27 error is 1.507775034805732\n",
            "stations 28 error is 0.5139159343921474\n",
            "stations 29 error is 0.7544480101871519\n",
            "stations 30 error is 2.6921505386070876\n",
            "********************\n",
            "mean error is 5.5336032060023985\n"
          ],
          "name": "stdout"
        }
      ]
    },
    {
      "cell_type": "code",
      "metadata": {
        "colab": {
          "base_uri": "https://localhost:8080/",
          "height": 321
        },
        "id": "xZ2Dxf-pLqhq",
        "outputId": "182c270d-62b8-4cca-c816-68d6227f0ae9"
      },
      "source": [
        "all_df[all_df['station']==5]['yhat'].plot()\r\n",
        "all_df[all_df['station']==4]['yhat'].plot()\r\n",
        "all_df[all_df['station']==3]['yhat'].plot()"
      ],
      "execution_count": null,
      "outputs": [
        {
          "output_type": "execute_result",
          "data": {
            "text/plain": [
              "<matplotlib.axes._subplots.AxesSubplot at 0x7f64bcfb4c88>"
            ]
          },
          "metadata": {
            "tags": []
          },
          "execution_count": 53
        },
        {
          "output_type": "display_data",
          "data": {
            "image/png": "[encoded data removed]",
            "text/plain": [
              "<Figure size 432x288 with 1 Axes>"
            ]
          },
          "metadata": {
            "tags": [],
            "needs_background": "light"
          }
        }
      ]
    },
    {
      "cell_type": "code",
      "metadata": {
        "colab": {
          "base_uri": "https://localhost:8080/"
        },
        "id": "yZ0N1TSH11Af",
        "outputId": "b85d23ce-7c3f-4d00-e5d5-3d12b3046a27"
      },
      "source": [
        "print('validating...')\r\n",
        "all_df = pd.DataFrame()\r\n",
        "\r\n",
        "valid_start_date = pd.Timestamp('2019-10-10')\r\n",
        "valid_end_date = valid_start_date + pd.Timedelta(int(context_length/24-1),unit='D')\r\n",
        "pred_start_date = valid_end_date + pd.Timedelta(1,unit='D')\r\n",
        "pred_end_date  = pred_start_date + pd.Timedelta(int(prediction_length/24-1),unit='D')\r\n",
        "for pos in G_POST_LIST:\r\n",
        "    out = pd.DataFrame()\r\n",
        "    mx.random.seed(r_seed)\r\n",
        "    np.random.seed(r_seed)\r\n",
        "    validate_ds_pred = ListDataset([{'target': use_diff_2018_2019_df.loc[valid_start_date.strftime('%Y-%m-%d'):valid_end_date.strftime('%Y-%m-%d'),pos],\r\n",
        "                                     'start': pd.Timestamp(pred_start_date.strftime('%Y-%m-%d'), freq=freq),\r\n",
        "                                     FieldName.FEAT_DYNAMIC_REAL: use_diff_2018_2019_df.loc[valid_start_date.strftime('%Y-%m-%d'):pred_end_date.strftime('%Y-%m-%d'),['temp']].values.T,FieldName.FEAT_STATIC_CAT:[pos_group_dict[pos]]}]\r\n",
        "                        ,\r\n",
        "                    freq=freq)\r\n",
        "    prediction = next(predictor.predict(validate_ds_pred))\r\n",
        "    yhat_mean = prediction.mean\r\n",
        "    out['y'] = use_diff_2018_2019_df.loc[pred_start_date.strftime('%Y-%m-%d'):pred_end_date.strftime('%Y-%m-%d'),pos]\r\n",
        "    out['yhat'] = yhat_mean.tolist()\r\n",
        "    out['station']=pos\r\n",
        "    all_df = pd.concat([all_df,out],axis=0)\r\n",
        "    calc_pred = all_df.dropna(subset=['y','yhat'],axis=0)\r\n",
        "    error = mean_squared_error(calc_pred[calc_pred['station']==pos]['y'],calc_pred[calc_pred['station']==pos]['yhat'])*10000\r\n",
        "    print(f'stations {pos} error is {error}')\r\n",
        "calc_pred = all_df.dropna(subset=['y','yhat'],axis=0)\r\n",
        "error = mean_squared_error(calc_pred['y'],calc_pred['yhat'])*10000\r\n",
        "print('*'*20)\r\n",
        "print(f'mean error is {error}')"
      ],
      "execution_count": null,
      "outputs": [
        {
          "output_type": "stream",
          "text": [
            "validating...\n",
            "stations 1 error is 0.7513425405212831\n",
            "stations 2 error is 0.6258559848920595\n",
            "stations 3 error is 0.6828901375577279\n",
            "stations 4 error is 5.19792140164288\n",
            "stations 5 error is 0.4725997540340219\n",
            "stations 6 error is 6.691943631187929\n",
            "stations 7 error is 1.926374176250236\n",
            "stations 8 error is 1.9735486296995586\n",
            "stations 9 error is 5.7855306113443286\n",
            "stations 10 error is 2.9652623000390186\n",
            "stations 11 error is 7.957154373799737\n",
            "stations 12 error is 2.7702925204810454\n",
            "stations 13 error is 20.634868746044802\n",
            "stations 14 error is 2.39059021268447\n",
            "stations 15 error is 3.630053459705518\n",
            "stations 16 error is 1.634269652168786\n",
            "stations 17 error is 0.9751535287480653\n",
            "stations 18 error is 5.967079268702229\n",
            "stations 19 error is 1.0666745308245844\n",
            "stations 20 error is 1.6899683249023802\n",
            "stations 21 error is 1.8273029800735439\n",
            "stations 22 error is 2.1617451994280987\n",
            "stations 23 error is 4.7562934755478015\n",
            "stations 24 error is 4.312802578421894\n",
            "stations 25 error is 4.394087499466223\n",
            "stations 26 error is 7.087739830913674\n",
            "stations 27 error is 1.8501487465762367\n",
            "stations 28 error is 0.4277423487104356\n",
            "stations 29 error is 0.731386332201115\n",
            "stations 30 error is 5.454977809909579\n",
            "********************\n",
            "mean error is 3.626453352882642\n"
          ],
          "name": "stdout"
        }
      ]
    },
    {
      "cell_type": "code",
      "metadata": {
        "colab": {
          "base_uri": "https://localhost:8080/",
          "height": 323
        },
        "id": "-3Z-uGojoCZx",
        "outputId": "40b06af4-0f3f-42ad-cf17-dc9aa2949f8a"
      },
      "source": [
        "all_df[all_df['station']==5]['yhat'].plot()\r\n",
        "all_df[all_df['station']==4]['yhat'].plot()\r\n",
        "all_df[all_df['station']==3]['yhat'].plot()"
      ],
      "execution_count": null,
      "outputs": [
        {
          "output_type": "execute_result",
          "data": {
            "text/plain": [
              "<matplotlib.axes._subplots.AxesSubplot at 0x7f64bcfed860>"
            ]
          },
          "metadata": {
            "tags": []
          },
          "execution_count": 55
        },
        {
          "output_type": "display_data",
          "data": {
            "image/png": "[encoded data removed]",
            "text/plain": [
              "<Figure size 432x288 with 1 Axes>"
            ]
          },
          "metadata": {
            "tags": [],
            "needs_background": "light"
          }
        }
      ]
    },
    {
      "cell_type": "markdown",
      "metadata": {
        "id": "il6OIVyO2fst"
      },
      "source": [
        "When choosing these windows we ensure that entire prediction range is always covered\r\n",
        "by the available ground truth data, but we may chose t = 1 to lie before the start of the time series,\r\n",
        "e.g. 2012-12-01 in the example above, padding the unobserved target with zeros\r\n",
        "\r\n",
        "if the context period in the test data is less than the training data, zeros are padded."
      ]
    },
    {
      "cell_type": "code",
      "metadata": {
        "colab": {
          "base_uri": "https://localhost:8080/"
        },
        "id": "F6DltzRIJl61",
        "outputId": "9b4df920-8fc8-48ab-db79-720834732b91"
      },
      "source": [
        "supplement_period = [['2020-01-02','2020-01-31'],['2020-03-02','2020-03-31'],['2020-05-02','2020-05-31'],['2020-08-01','2020-08-31']]\r\n",
        "predict_period = [['2020-02-01','2020-02-21'],['2020-04-01','2020-04-21'],['2020-06-01','2020-06-21'],['2020-09-01','2020-09-21']]\r\n",
        "pred_2020_all = pd.DataFrame() \r\n",
        "\r\n",
        "\r\n",
        "use_diff_2020_df = pressure_2020_df_diff\r\n",
        "\r\n",
        "\r\n",
        "all_df = pd.DataFrame()\r\n",
        "print('predicting...')\r\n",
        "for pos in G_POST_LIST:\r\n",
        "    print(f'predict {pos} pos')\r\n",
        "    for s,p in zip(supplement_period,predict_period):\r\n",
        "        out = pd.DataFrame()\r\n",
        "        mx.random.seed(r_seed)\r\n",
        "        np.random.seed(r_seed)\r\n",
        "        test_data = ListDataset([{'target': use_diff_2020_df.loc[s[0]:s[1],pos], 'start': pd.Timestamp(p[0],freq=freq),FieldName.FEAT_DYNAMIC_REAL: use_diff_2020_df.loc[s[0]:p[1],['temp']].values.T,FieldName.FEAT_STATIC_CAT:[pos_group_dict[pos]]}],freq=freq)\r\n",
        "        prediction = next(predictor.predict(test_data))\r\n",
        "        out['DateTime'] = [pd.Timestamp(p[0])+pd.Timedelta(i,unit='H') for i in range(21*24)]\r\n",
        "        yhat_mean = prediction.mean\r\n",
        "        out['pressure_dff'] = yhat_mean.tolist()\r\n",
        "        out['pressure'] = out['pressure_dff'].values+pressure_2020_df.loc[s[0]:s[1],pos].iloc[-21*24:].interpolate().values\r\n",
        "        out['MeasName']=pos\r\n",
        "        all_df = pd.concat([all_df,out],axis=0)\r\n",
        "    \r\n"
      ],
      "execution_count": null,
      "outputs": [
        {
          "output_type": "stream",
          "text": [
            "predicting...\n",
            "predict 1 pos\n",
            "predict 2 pos\n",
            "predict 3 pos\n",
            "predict 4 pos\n",
            "predict 5 pos\n",
            "predict 6 pos\n",
            "predict 7 pos\n",
            "predict 8 pos\n",
            "predict 9 pos\n",
            "predict 10 pos\n",
            "predict 11 pos\n",
            "predict 12 pos\n",
            "predict 13 pos\n",
            "predict 14 pos\n",
            "predict 15 pos\n",
            "predict 16 pos\n",
            "predict 17 pos\n",
            "predict 18 pos\n",
            "predict 19 pos\n",
            "predict 20 pos\n",
            "predict 21 pos\n",
            "predict 22 pos\n",
            "predict 23 pos\n",
            "predict 24 pos\n",
            "predict 25 pos\n",
            "predict 26 pos\n",
            "predict 27 pos\n",
            "predict 28 pos\n",
            "predict 29 pos\n",
            "predict 30 pos\n"
          ],
          "name": "stdout"
        }
      ]
    },
    {
      "cell_type": "code",
      "metadata": {
        "id": "JkvjFCVfc8n0",
        "colab": {
          "base_uri": "https://localhost:8080/",
          "height": 320
        },
        "outputId": "3dc1d1e8-0f23-4086-b622-a5836b803f35"
      },
      "source": [
        "pressure_2020_df.loc['2020-01-02':'2020-01-31',18].iloc[-21*24:-21*24+192].interpolate().plot() # 源数据有缺失"
      ],
      "execution_count": null,
      "outputs": [
        {
          "output_type": "execute_result",
          "data": {
            "text/plain": [
              "<matplotlib.axes._subplots.AxesSubplot at 0x7f646d7698d0>"
            ]
          },
          "metadata": {
            "tags": []
          },
          "execution_count": 103
        },
        {
          "output_type": "display_data",
          "data": {
            "image/png": "[encoded data removed]",
            "text/plain": [
              "<Figure size 432x288 with 1 Axes>"
            ]
          },
          "metadata": {
            "tags": [],
            "needs_background": "light"
          }
        }
      ]
    },
    {
      "cell_type": "code",
      "metadata": {
        "colab": {
          "base_uri": "https://localhost:8080/",
          "height": 417
        },
        "id": "FcMCI455VejJ",
        "outputId": "70cca0ab-a082-4349-8add-74290d77cfd1"
      },
      "source": [
        "all_df"
      ],
      "execution_count": null,
      "outputs": [
        {
          "output_type": "execute_result",
          "data": {
            "text/html": [
              "<div>\n",
              "<style scoped>\n",
              "    .dataframe tbody tr th:only-of-type {\n",
              "        vertical-align: middle;\n",
              "    }\n",
              "\n",
              "    .dataframe tbody tr th {\n",
              "        vertical-align: top;\n",
              "    }\n",
              "\n",
              "    .dataframe thead th {\n",
              "        text-align: right;\n",
              "    }\n",
              "</style>\n",
              "<table border=\"1\" class=\"dataframe\">\n",
              "  <thead>\n",
              "    <tr style=\"text-align: right;\">\n",
              "      <th></th>\n",
              "      <th>DateTime</th>\n",
              "      <th>pressure_dff</th>\n",
              "      <th>pressure</th>\n",
              "      <th>MeasName</th>\n",
              "    </tr>\n",
              "  </thead>\n",
              "  <tbody>\n",
              "    <tr>\n",
              "      <th>0</th>\n",
              "      <td>2020-02-01 00:00:00</td>\n",
              "      <td>0.007733</td>\n",
              "      <td>0.324108</td>\n",
              "      <td>1</td>\n",
              "    </tr>\n",
              "    <tr>\n",
              "      <th>1</th>\n",
              "      <td>2020-02-01 01:00:00</td>\n",
              "      <td>0.005632</td>\n",
              "      <td>0.323132</td>\n",
              "      <td>1</td>\n",
              "    </tr>\n",
              "    <tr>\n",
              "      <th>2</th>\n",
              "      <td>2020-02-01 02:00:00</td>\n",
              "      <td>0.006803</td>\n",
              "      <td>0.330303</td>\n",
              "      <td>1</td>\n",
              "    </tr>\n",
              "    <tr>\n",
              "      <th>3</th>\n",
              "      <td>2020-02-01 03:00:00</td>\n",
              "      <td>0.005386</td>\n",
              "      <td>0.320636</td>\n",
              "      <td>1</td>\n",
              "    </tr>\n",
              "    <tr>\n",
              "      <th>4</th>\n",
              "      <td>2020-02-01 04:00:00</td>\n",
              "      <td>0.004553</td>\n",
              "      <td>0.325428</td>\n",
              "      <td>1</td>\n",
              "    </tr>\n",
              "    <tr>\n",
              "      <th>...</th>\n",
              "      <td>...</td>\n",
              "      <td>...</td>\n",
              "      <td>...</td>\n",
              "      <td>...</td>\n",
              "    </tr>\n",
              "    <tr>\n",
              "      <th>499</th>\n",
              "      <td>2020-09-21 19:00:00</td>\n",
              "      <td>0.010964</td>\n",
              "      <td>0.293339</td>\n",
              "      <td>30</td>\n",
              "    </tr>\n",
              "    <tr>\n",
              "      <th>500</th>\n",
              "      <td>2020-09-21 20:00:00</td>\n",
              "      <td>0.016143</td>\n",
              "      <td>0.291018</td>\n",
              "      <td>30</td>\n",
              "    </tr>\n",
              "    <tr>\n",
              "      <th>501</th>\n",
              "      <td>2020-09-21 21:00:00</td>\n",
              "      <td>0.012952</td>\n",
              "      <td>0.257452</td>\n",
              "      <td>30</td>\n",
              "    </tr>\n",
              "    <tr>\n",
              "      <th>502</th>\n",
              "      <td>2020-09-21 22:00:00</td>\n",
              "      <td>0.000294</td>\n",
              "      <td>0.260544</td>\n",
              "      <td>30</td>\n",
              "    </tr>\n",
              "    <tr>\n",
              "      <th>503</th>\n",
              "      <td>2020-09-21 23:00:00</td>\n",
              "      <td>0.007019</td>\n",
              "      <td>0.325019</td>\n",
              "      <td>30</td>\n",
              "    </tr>\n",
              "  </tbody>\n",
              "</table>\n",
              "<p>60480 rows × 4 columns</p>\n",
              "</div>"
            ],
            "text/plain": [
              "               DateTime  pressure_dff  pressure  MeasName\n",
              "0   2020-02-01 00:00:00      0.007733  0.324108         1\n",
              "1   2020-02-01 01:00:00      0.005632  0.323132         1\n",
              "2   2020-02-01 02:00:00      0.006803  0.330303         1\n",
              "3   2020-02-01 03:00:00      0.005386  0.320636         1\n",
              "4   2020-02-01 04:00:00      0.004553  0.325428         1\n",
              "..                  ...           ...       ...       ...\n",
              "499 2020-09-21 19:00:00      0.010964  0.293339        30\n",
              "500 2020-09-21 20:00:00      0.016143  0.291018        30\n",
              "501 2020-09-21 21:00:00      0.012952  0.257452        30\n",
              "502 2020-09-21 22:00:00      0.000294  0.260544        30\n",
              "503 2020-09-21 23:00:00      0.007019  0.325019        30\n",
              "\n",
              "[60480 rows x 4 columns]"
            ]
          },
          "metadata": {
            "tags": []
          },
          "execution_count": 104
        }
      ]
    },
    {
      "cell_type": "code",
      "metadata": {
        "id": "cPj3qlBdbadc"
      },
      "source": [
        "final_result_for_1st_round = pd.merge(left=to_predict_df_1st[['id','MeasName','DateTime']],right =all_df[['pressure','MeasName','DateTime']],on = ['MeasName','DateTime'],how='left')"
      ],
      "execution_count": null,
      "outputs": []
    },
    {
      "cell_type": "code",
      "metadata": {
        "colab": {
          "base_uri": "https://localhost:8080/",
          "height": 419
        },
        "id": "GR4oIXyhbTaK",
        "outputId": "b8a2918d-b5e5-41f9-fd41-42d0c3ed0bee"
      },
      "source": [
        "final_result_for_1st_round.iloc[1168:1180]"
      ],
      "execution_count": null,
      "outputs": [
        {
          "output_type": "execute_result",
          "data": {
            "text/html": [
              "<div>\n",
              "<style scoped>\n",
              "    .dataframe tbody tr th:only-of-type {\n",
              "        vertical-align: middle;\n",
              "    }\n",
              "\n",
              "    .dataframe tbody tr th {\n",
              "        vertical-align: top;\n",
              "    }\n",
              "\n",
              "    .dataframe thead th {\n",
              "        text-align: right;\n",
              "    }\n",
              "</style>\n",
              "<table border=\"1\" class=\"dataframe\">\n",
              "  <thead>\n",
              "    <tr style=\"text-align: right;\">\n",
              "      <th></th>\n",
              "      <th>id</th>\n",
              "      <th>MeasName</th>\n",
              "      <th>DateTime</th>\n",
              "      <th>pressure</th>\n",
              "    </tr>\n",
              "  </thead>\n",
              "  <tbody>\n",
              "    <tr>\n",
              "      <th>1168</th>\n",
              "      <td>1168</td>\n",
              "      <td>18</td>\n",
              "      <td>2020-02-04 16:00:00</td>\n",
              "      <td>0.220125</td>\n",
              "    </tr>\n",
              "    <tr>\n",
              "      <th>1169</th>\n",
              "      <td>1169</td>\n",
              "      <td>18</td>\n",
              "      <td>2020-02-04 17:00:00</td>\n",
              "      <td>0.215174</td>\n",
              "    </tr>\n",
              "    <tr>\n",
              "      <th>1170</th>\n",
              "      <td>1170</td>\n",
              "      <td>18</td>\n",
              "      <td>2020-02-04 18:00:00</td>\n",
              "      <td>0.207408</td>\n",
              "    </tr>\n",
              "    <tr>\n",
              "      <th>1171</th>\n",
              "      <td>1171</td>\n",
              "      <td>18</td>\n",
              "      <td>2020-02-04 19:00:00</td>\n",
              "      <td>0.203925</td>\n",
              "    </tr>\n",
              "    <tr>\n",
              "      <th>1172</th>\n",
              "      <td>1172</td>\n",
              "      <td>18</td>\n",
              "      <td>2020-02-04 20:00:00</td>\n",
              "      <td>0.195775</td>\n",
              "    </tr>\n",
              "    <tr>\n",
              "      <th>1173</th>\n",
              "      <td>1173</td>\n",
              "      <td>18</td>\n",
              "      <td>2020-02-04 21:00:00</td>\n",
              "      <td>0.190140</td>\n",
              "    </tr>\n",
              "    <tr>\n",
              "      <th>1174</th>\n",
              "      <td>1174</td>\n",
              "      <td>18</td>\n",
              "      <td>2020-02-04 22:00:00</td>\n",
              "      <td>0.196563</td>\n",
              "    </tr>\n",
              "    <tr>\n",
              "      <th>1175</th>\n",
              "      <td>1175</td>\n",
              "      <td>18</td>\n",
              "      <td>2020-02-04 23:00:00</td>\n",
              "      <td>0.225525</td>\n",
              "    </tr>\n",
              "    <tr>\n",
              "      <th>1176</th>\n",
              "      <td>1176</td>\n",
              "      <td>13</td>\n",
              "      <td>2020-02-04 00:00:00</td>\n",
              "      <td>0.237342</td>\n",
              "    </tr>\n",
              "    <tr>\n",
              "      <th>1177</th>\n",
              "      <td>1177</td>\n",
              "      <td>13</td>\n",
              "      <td>2020-02-04 01:00:00</td>\n",
              "      <td>0.245789</td>\n",
              "    </tr>\n",
              "    <tr>\n",
              "      <th>1178</th>\n",
              "      <td>1178</td>\n",
              "      <td>13</td>\n",
              "      <td>2020-02-04 02:00:00</td>\n",
              "      <td>0.261807</td>\n",
              "    </tr>\n",
              "    <tr>\n",
              "      <th>1179</th>\n",
              "      <td>1179</td>\n",
              "      <td>13</td>\n",
              "      <td>2020-02-04 03:00:00</td>\n",
              "      <td>0.243422</td>\n",
              "    </tr>\n",
              "  </tbody>\n",
              "</table>\n",
              "</div>"
            ],
            "text/plain": [
              "        id  MeasName            DateTime  pressure\n",
              "1168  1168        18 2020-02-04 16:00:00  0.220125\n",
              "1169  1169        18 2020-02-04 17:00:00  0.215174\n",
              "1170  1170        18 2020-02-04 18:00:00  0.207408\n",
              "1171  1171        18 2020-02-04 19:00:00  0.203925\n",
              "1172  1172        18 2020-02-04 20:00:00  0.195775\n",
              "1173  1173        18 2020-02-04 21:00:00  0.190140\n",
              "1174  1174        18 2020-02-04 22:00:00  0.196563\n",
              "1175  1175        18 2020-02-04 23:00:00  0.225525\n",
              "1176  1176        13 2020-02-04 00:00:00  0.237342\n",
              "1177  1177        13 2020-02-04 01:00:00  0.245789\n",
              "1178  1178        13 2020-02-04 02:00:00  0.261807\n",
              "1179  1179        13 2020-02-04 03:00:00  0.243422"
            ]
          },
          "metadata": {
            "tags": []
          },
          "execution_count": 106
        }
      ]
    },
    {
      "cell_type": "code",
      "metadata": {
        "id": "zoifJoqnZfsF"
      },
      "source": [
        "final_result_for_1st_round[['id','pressure']].to_csv('submit_2021_01_28_1.csv',index=False)"
      ],
      "execution_count": null,
      "outputs": []
    }
  ]
}